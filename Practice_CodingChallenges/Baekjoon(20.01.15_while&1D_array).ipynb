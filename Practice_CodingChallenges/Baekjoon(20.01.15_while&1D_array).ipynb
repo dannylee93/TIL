{
 "cells": [
  {
   "cell_type": "markdown",
   "metadata": {},
   "source": [
    "<br>\n",
    "\n",
    "# while 문 연습"
   ]
  },
  {
   "cell_type": "code",
   "execution_count": 1,
   "metadata": {},
   "outputs": [
    {
     "name": "stdout",
     "output_type": "stream",
     "text": [
      "1 1\n",
      "2\n",
      "2 2\n",
      "4\n",
      "3 3\n",
      "6\n",
      "4 4\n",
      "8\n",
      "0 0\n"
     ]
    }
   ],
   "source": [
    "# 10952 / A + B - 5\n",
    "\n",
    "while (True):                            # True에 괄호 치지\n",
    "    a, b = map(int, input().split())     # 맵핑한것을 리스트로 묶든 아니든 상관은 없지만 while문 안에 input을 넣어야 하는 것이 중요\n",
    "    if ((a and b) > 0) :\n",
    "        print(a + b)\n",
    "    else :\n",
    "        break"
   ]
  },
  {
   "cell_type": "code",
   "execution_count": 2,
   "metadata": {},
   "outputs": [],
   "source": [
    "# 10951 / A + B - 4\n",
    "\n",
    "# 이대로 하면 런타임 에러에 묶인다.\n",
    "while (True):\n",
    "    a, b = map(int, input().split())\n",
    "    print(a + b)\n",
    "    \n",
    "# 시간 줄이기 위해 sys 모듈 사용해야함\n",
    "import sys\n",
    "\n",
    "for line in sys.stdin:\n",
    "    a, b = map(int, line.split())\n",
    "    print(a + b)"
   ]
  },
  {
   "cell_type": "code",
   "execution_count": null,
   "metadata": {},
   "outputs": [],
   "source": [
    "# 1110 / 더하기 사이클\n",
    "n = \n",
    "\n",
    "while (True):\n",
    "    "
   ]
  },
  {
   "cell_type": "code",
   "execution_count": 8,
   "metadata": {},
   "outputs": [
    {
     "name": "stdout",
     "output_type": "stream",
     "text": [
      "12\n"
     ]
    },
    {
     "data": {
      "text/plain": [
       "[12]"
      ]
     },
     "execution_count": 8,
     "metadata": {},
     "output_type": "execute_result"
    }
   ],
   "source": []
  },
  {
   "cell_type": "markdown",
   "metadata": {},
   "source": [
    "<br>\n",
    "\n",
    "# 1D_Array(1차원 배열) 연습"
   ]
  },
  {
   "cell_type": "code",
   "execution_count": null,
   "metadata": {},
   "outputs": [],
   "source": []
  },
  {
   "cell_type": "code",
   "execution_count": null,
   "metadata": {},
   "outputs": [],
   "source": []
  },
  {
   "cell_type": "code",
   "execution_count": null,
   "metadata": {},
   "outputs": [],
   "source": []
  },
  {
   "cell_type": "code",
   "execution_count": null,
   "metadata": {},
   "outputs": [],
   "source": []
  }
 ],
 "metadata": {
  "kernelspec": {
   "display_name": "Python 3",
   "language": "python",
   "name": "python3"
  },
  "language_info": {
   "codemirror_mode": {
    "name": "ipython",
    "version": 3
   },
   "file_extension": ".py",
   "mimetype": "text/x-python",
   "name": "python",
   "nbconvert_exporter": "python",
   "pygments_lexer": "ipython3",
   "version": "3.7.3"
  }
 },
 "nbformat": 4,
 "nbformat_minor": 2
}
