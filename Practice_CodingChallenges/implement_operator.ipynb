{
 "cells": [
  {
   "cell_type": "markdown",
   "metadata": {},
   "source": [
    "### 연산자 구현"
   ]
  },
  {
   "cell_type": "code",
   "execution_count": 1,
   "metadata": {},
   "outputs": [],
   "source": [
    "a = [1,2,3,2]\n",
    "b = [1,3]\n",
    "\n",
    "# set\n",
    "def set_data(x):\n",
    "    tmp = []\n",
    "    for i in x:\n",
    "        if i not in tmp:\n",
    "            tmp.append(i)\n",
    "    return tmp\n",
    "\n",
    "# 교집합\n",
    "def intersection_data(x, y):\n",
    "    tmp = []\n",
    "    for i in x:\n",
    "        if i in y:\n",
    "            tmp.append(i)\n",
    "    tmp = set_data(tmp)\n",
    "    return tmp\n",
    "\n",
    "# 차집합\n",
    "def complement_data(x, y):    \n",
    "    int_x = intersection_data(x, y)\n",
    "    print(int_x)\n",
    "    tmp_comple = []    \n",
    "    for i in x:\n",
    "        if i not in int_x:\n",
    "            tmp_comple.append(i)\n",
    "    tmp_comple = set_data(tmp_comple)\n",
    "    return tmp_comple\n",
    "\n",
    "# 합집합\n",
    "def sum_data(x, y):\n",
    "    tmp = complement_data(x, y) + intersection_data(x, y)\n",
    "    tmp = set_data(tmp)\n",
    "    return tmp"
   ]
  },
  {
   "cell_type": "markdown",
   "metadata": {},
   "source": [
    "### 데이터 중복확인(구현중)"
   ]
  },
  {
   "cell_type": "code",
   "execution_count": 2,
   "metadata": {},
   "outputs": [],
   "source": [
    "name_list = [\"봄\",\"여울\",\"봄봄\"]\n",
    "\n",
    "for idx, name in enumerate(name_list):\n",
    "    if len(name_list[idx]) == 1 :\n",
    "        if name in name_list[idx: ]:\n",
    "            True\n",
    "    else : \n",
    "        False"
   ]
  },
  {
   "cell_type": "code",
   "execution_count": null,
   "metadata": {},
   "outputs": [],
   "source": [
    " "
   ]
  }
 ],
 "metadata": {
  "kernelspec": {
   "display_name": "Python 3",
   "language": "python",
   "name": "python3"
  },
  "language_info": {
   "codemirror_mode": {
    "name": "ipython",
    "version": 3
   },
   "file_extension": ".py",
   "mimetype": "text/x-python",
   "name": "python",
   "nbconvert_exporter": "python",
   "pygments_lexer": "ipython3",
   "version": "3.7.4"
  }
 },
 "nbformat": 4,
 "nbformat_minor": 2
}
