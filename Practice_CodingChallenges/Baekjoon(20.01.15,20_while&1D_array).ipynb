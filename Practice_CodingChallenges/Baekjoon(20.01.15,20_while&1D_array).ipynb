{
 "cells": [
  {
   "cell_type": "markdown",
   "metadata": {},
   "source": [
    "<br>\n",
    "\n",
    "# while 문 연습"
   ]
  },
  {
   "cell_type": "code",
   "execution_count": 1,
   "metadata": {},
   "outputs": [
    {
     "name": "stdout",
     "output_type": "stream",
     "text": [
      "1 1\n",
      "2\n",
      "2 2\n",
      "4\n",
      "3 3\n",
      "6\n",
      "4 4\n",
      "8\n",
      "0 0\n"
     ]
    }
   ],
   "source": [
    "# 10952 / A + B - 5\n",
    "\n",
    "while (True):                            # True에 괄호 치지\n",
    "    a, b = map(int, input().split())     # 맵핑한것을 리스트로 묶든 아니든 상관은 없지만 while문 안에 input을 넣어야 하는 것이 중요\n",
    "    if ((a and b) > 0) :\n",
    "        print(a + b)\n",
    "    else :\n",
    "        break"
   ]
  },
  {
   "cell_type": "code",
   "execution_count": 2,
   "metadata": {},
   "outputs": [],
   "source": [
    "# 10951 / A + B - 4\n",
    "\n",
    "# 이대로 하면 런타임 에러에 묶인다.\n",
    "while (True):\n",
    "    a, b = map(int, input().split())\n",
    "    print(a + b)\n",
    "    \n",
    "# 시간 줄이기 위해 sys 모듈 사용해야함\n",
    "import sys\n",
    "\n",
    "for line in sys.stdin:\n",
    "    a, b = map(int, line.split())\n",
    "    print(a + b)"
   ]
  },
  {
   "cell_type": "code",
   "execution_count": 3,
   "metadata": {},
   "outputs": [
    {
     "name": "stdout",
     "output_type": "stream",
     "text": [
      "26\n",
      "4\n"
     ]
    }
   ],
   "source": [
    "# 1110 / 더하기 사이클\n",
    "# 1의 자리수와 10의 자리수를 루프로 돌려 반복계산한다는 사실을 깨달으면 해결할 수 있는 문제이다.\n",
    "first_number = int(input())\n",
    "second_number = 0\n",
    "result_number = 0\n",
    "roof_counter = 1\n",
    "\n",
    "if not (0 <= first_number<= 99) :\n",
    "    exit()\n",
    "\n",
    "number_checker = first_number\n",
    "\n",
    "while (True):\n",
    "    second_number = first_number % 10  # 1의자리 숫자가 나머지 개념으로 '정수'로 나온다.    \n",
    "    first_number = int(first_number / 10)\n",
    "    result_number = first_number + second_number\n",
    "    first_number = second_number*10 + result_number%10\n",
    "    \n",
    "    if (number_checker == first_number):\n",
    "        break\n",
    "    else:\n",
    "        roof_counter += 1\n",
    "print(roof_counter)"
   ]
  },
  {
   "cell_type": "markdown",
   "metadata": {},
   "source": [
    "<br>\n",
    "\n",
    "# 1D_Array(1차원 배열) 연습"
   ]
  },
  {
   "cell_type": "code",
   "execution_count": 11,
   "metadata": {},
   "outputs": [
    {
     "name": "stdout",
     "output_type": "stream",
     "text": [
      "5\n",
      "20 10 35 30 7\n",
      "7 35\n"
     ]
    }
   ],
   "source": [
    "# 10818 / 최소, 최대\n",
    "\n",
    "n = int(input())\n",
    "num_list = list(map(int, input().split()))\n",
    "print(min(num_list), max(num_list))"
   ]
  },
  {
   "cell_type": "code",
   "execution_count": 18,
   "metadata": {},
   "outputs": [
    {
     "name": "stdout",
     "output_type": "stream",
     "text": [
      "3 29 38 12 57 74 40 85 61\n",
      "85\n",
      "8\n"
     ]
    }
   ],
   "source": [
    "# 2562 / 최댓값\n",
    "\n",
    "num_list = list(map(int, input().split()))\n",
    "where_max = num_list.index(max(num_list)) + 1\n",
    "print(max(num_list), where_max, sep='\\n')"
   ]
  },
  {
   "cell_type": "code",
   "execution_count": 19,
   "metadata": {},
   "outputs": [
    {
     "name": "stdout",
     "output_type": "stream",
     "text": [
      "3\n",
      "29\n",
      "38\n",
      "12\n",
      "57\n",
      "74\n",
      "40\n",
      "85\n",
      "61\n",
      "85\n",
      "8\n"
     ]
    }
   ],
   "source": [
    "num_list = []\n",
    "for i in range(9):\n",
    "    num_list.append(int(input()))\n",
    "    \n",
    "print(max(num_list))\n",
    "print(num_list.index(max(num_list))+1)"
   ]
  },
  {
   "cell_type": "code",
   "execution_count": 37,
   "metadata": {
    "scrolled": true
   },
   "outputs": [
    {
     "name": "stdout",
     "output_type": "stream",
     "text": [
      "214\n",
      "453\n",
      "222\n"
     ]
    },
    {
     "data": {
      "text/plain": [
       "['2', '1', '5', '2', '1', '1', '2', '4']"
      ]
     },
     "execution_count": 37,
     "metadata": {},
     "output_type": "execute_result"
    }
   ],
   "source": [
    "# 2577 / 숫자의 개수\n",
    "\n",
    "a = int(input())\n",
    "b = int(input())\n",
    "c = int(input())\n",
    "abc = (a * b * c)      # 곱해서 나온 숫자를 리스트 안에 넣고 숫자화\n",
    "mul_list = str(abc)\n",
    "\n",
    "list(mul_list)"
   ]
  },
  {
   "cell_type": "code",
   "execution_count": 2,
   "metadata": {},
   "outputs": [
    {
     "name": "stdout",
     "output_type": "stream",
     "text": [
      "150\n",
      "266\n",
      "427\n",
      "3\n",
      "1\n",
      "0\n",
      "2\n",
      "0\n",
      "0\n",
      "0\n",
      "2\n",
      "0\n",
      "0\n"
     ]
    }
   ],
   "source": [
    "a = int(input())\n",
    "b = int(input())\n",
    "c = int(input())\n",
    "abc = (a * b * c)      # 곱해서 나온 숫자를 리스트 안에 넣고 숫자화\n",
    "mul_list = list(str(abc))\n",
    "\n",
    "for n in range(10):    # 0부터 9까지\n",
    "    num_count = mul_list.count(str(n))\n",
    "    print(num_count)"
   ]
  },
  {
   "cell_type": "code",
   "execution_count": 2,
   "metadata": {},
   "outputs": [
    {
     "name": "stdout",
     "output_type": "stream",
     "text": [
      "39\n",
      "40\n",
      "41\n",
      "42\n",
      "43\n",
      "44\n",
      "82\n",
      "83\n",
      "84\n"
     ]
    },
    {
     "data": {
      "text/plain": [
       "{0, 1, 2, 39, 40, 41}"
      ]
     },
     "execution_count": 2,
     "metadata": {},
     "output_type": "execute_result"
    }
   ],
   "source": [
    "# 3052 / 나머지\n",
    "\n",
    "num_list = []\n",
    "\n",
    "for i in range(10):\n",
    "    num_list.append(int(input()) % 42)\n",
    "\n",
    "num_list = set(num_list)\n",
    "print(len(num_list))\n",
    "\n",
    "# 집합자료형(set)모르면 풀 수 없는 문제였다.\n",
    "# 집합(set) 이란? == 순서가 없고, 중복을 허용하지 않는 집합\n",
    "# 합집합 == set().union()\n",
    "# 교집합 == set().intersection()\n",
    "# 차집합 == set().difference()"
   ]
  },
  {
   "cell_type": "code",
   "execution_count": 16,
   "metadata": {},
   "outputs": [
    {
     "name": "stdout",
     "output_type": "stream",
     "text": [
      "3 \n",
      "40 80 60\n",
      "75.0\n"
     ]
    }
   ],
   "source": [
    "# 1546 / 평균\n",
    "\n",
    "n = int(input())\n",
    "num_score = list(map(int, input().split()))\n",
    "M = max(num_score)\n",
    "\n",
    "new_score = []\n",
    "for i in num_score:\n",
    "    new_score.append((i/M) *100)\n",
    "new_average = sum(new_score) / n\n",
    "\n",
    "print(new_average)"
   ]
  },
  {
   "cell_type": "code",
   "execution_count": 1,
   "metadata": {},
   "outputs": [
    {
     "name": "stdout",
     "output_type": "stream",
     "text": [
      "5\n",
      "OOXXOXXOOO\n",
      "10\n",
      "OOXXOOXXOO\n",
      "9\n",
      "OXOXOXOXOXOXOX\n",
      "7\n",
      "OOOOOOOOOO\n",
      "55\n",
      "OOOOXOOOOXOOOOX\n",
      "30\n"
     ]
    }
   ],
   "source": [
    "# 8958 / OX 퀴즈\n",
    "\n",
    "N = int(input())\n",
    "A = []\n",
    "for i in range(N) :\n",
    "    O_Score = 0\n",
    "    X_Score = 0\n",
    "    Total_Score = 0\n",
    "    A = input()\n",
    "    for B in A :\n",
    "        if B =='O':\n",
    "            O_Score += 1\n",
    "            Total_Score += O_Score\n",
    "        else :\n",
    "            X_Score = 0\n",
    "            O_Score = 0\n",
    "    print(Total_Score)\n",
    "\n",
    "# A라는 리스트에 입력을 받아 A 범위에서 반복문을 돌려 O가 있으면 \n",
    "# O_Score를 1씩 증가시키고 중간에 X가 나오면 O_Score를 0으로 초기화하여 토탈스코어를 출력하면 된다. "
   ]
  },
  {
   "cell_type": "code",
   "execution_count": 5,
   "metadata": {},
   "outputs": [
    {
     "name": "stdout",
     "output_type": "stream",
     "text": [
      "1\n",
      "OOOOXOOOOXOOOOX\n"
     ]
    },
    {
     "data": {
      "text/plain": [
       "[1, 0, 0, 0, 0, 0, 0, 0, 0, 0, 0, 0, 0, 0, 0]"
      ]
     },
     "execution_count": 5,
     "metadata": {},
     "output_type": "execute_result"
    }
   ],
   "source": [
    "# 8958 / OX 퀴즈\n",
    "\n",
    "n = int(input())                         # 테스트 케이스 개수\n",
    "\n",
    "for cnt in range(n):                     # 테스트 케이스 개수만큼 반복\n",
    "    test_case = input()                  # 테스트 케이스 입력 -> 'OXOXOX' 이런식으로 나온다.\n",
    "    arrayed = [0] * len(test_case)       # 0이라는 숫자가 테스트 캐이스의 길이 만큼 list에 저장된다.\n",
    "\n",
    "    if(test_case[0] == \"O\"):             # 'OXOXOX' 와 같은 형태로 있더라도 index 지정으로 원하는 부분 짚어낼 수 있다.\n",
    "        arrayed[0] = 1                   # 첫 arrayed의 list 원소에 1이 저장된다.\n",
    "         \n",
    "    for i in range(1, len(test_case)):   # 1부터 test_case의 길이 만큼 for문 돌릴 때\n",
    "        if(test_case[i] == \"O\"):         # test_case의 위치의 문자가 O 이라면\n",
    "            arrayed[i] = arrayed[i-1]+1  # arryed의 리스트 그 위치에, 그전에 이미 arrayed 에 들어간 원소와 합해라.\n",
    "    print(sum(arrayed))                  # 마지막 출력"
   ]
  },
  {
   "cell_type": "code",
   "execution_count": 13,
   "metadata": {},
   "outputs": [
    {
     "name": "stdout",
     "output_type": "stream",
     "text": [
      "5\n",
      "5 50 50 70 80 100\n",
      "40.000\n"
     ]
    }
   ],
   "source": [
    "# 4344 / 평균은 넘겠지\n",
    "\n",
    "C = int(input())\n",
    "\n",
    "num_list = list(map(int, input().split()))\n",
    "N = C\n",
    "score_list = num_list[1:]\n",
    "average = sum(score_list) / C\n",
    "\n",
    "over_N = []\n",
    "for i in score_list:\n",
    "    if i > average :\n",
    "        over_N.append(i)\n",
    "    \n",
    "result = (len(over_N) / N) * 100\n",
    "print('%.3f' % result)"
   ]
  },
  {
   "cell_type": "code",
   "execution_count": 1,
   "metadata": {},
   "outputs": [
    {
     "name": "stdout",
     "output_type": "stream",
     "text": [
      "5\n",
      "5 50 50 70 80 100\n",
      "40.000\n",
      "7 100 95 90 80 70 60 50\n",
      "57.143\n",
      "3 70 90 80\n",
      "33.333\n",
      "3 70 90 81\n",
      "66.667\n",
      "9 100 99 98 97 96 95 94 93 91\n",
      "55.556\n"
     ]
    }
   ],
   "source": [
    "# 4344 / 평균은 넘겠지\n",
    "\n",
    "C = int(input())\n",
    "\n",
    "\n",
    "for cnt in range(C):\n",
    "    num_list = list(map(int, input().split()))\n",
    "    N = num_list[0]\n",
    "    score_list = num_list[1:]\n",
    "    average = sum(score_list) / N\n",
    "    over_N = []\n",
    "    for i in score_list:\n",
    "        if i > average :\n",
    "            over_N.append(i)\n",
    "            result = (len(over_N) / N) * 100\n",
    "    print('%.3f' % result)\n"
   ]
  },
  {
   "cell_type": "code",
   "execution_count": null,
   "metadata": {},
   "outputs": [],
   "source": []
  }
 ],
 "metadata": {
  "kernelspec": {
   "display_name": "Python 3",
   "language": "python",
   "name": "python3"
  },
  "language_info": {
   "codemirror_mode": {
    "name": "ipython",
    "version": 3
   },
   "file_extension": ".py",
   "mimetype": "text/x-python",
   "name": "python",
   "nbconvert_exporter": "python",
   "pygments_lexer": "ipython3",
   "version": "3.7.3"
  }
 },
 "nbformat": 4,
 "nbformat_minor": 2
}
