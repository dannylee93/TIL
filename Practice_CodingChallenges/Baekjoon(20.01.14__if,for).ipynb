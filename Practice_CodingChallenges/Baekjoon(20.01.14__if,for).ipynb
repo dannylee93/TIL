{
 "cells": [
  {
   "cell_type": "markdown",
   "metadata": {},
   "source": [
    "# if 문 연습"
   ]
  },
  {
   "cell_type": "code",
   "execution_count": 7,
   "metadata": {},
   "outputs": [
    {
     "name": "stdout",
     "output_type": "stream",
     "text": [
      "10 2\n",
      ">\n"
     ]
    }
   ],
   "source": [
    "# 1330 / 두 수 비교하기\n",
    "\n",
    "a ,b = input().split()\n",
    "a = int(a)\n",
    "b = int(b)\n",
    "\n",
    "if a > b:\n",
    "    print(\">\")\n",
    "elif a < b:\n",
    "    print(\"<\")\n",
    "elif a == b:\n",
    "    print(\"==\")"
   ]
  },
  {
   "cell_type": "code",
   "execution_count": 10,
   "metadata": {},
   "outputs": [
    {
     "name": "stdout",
     "output_type": "stream",
     "text": [
      "61\n",
      "D\n"
     ]
    }
   ],
   "source": [
    "# 9498 / 시험 성적\n",
    "\n",
    "result = int(input())\n",
    "\n",
    "if result >= 90 :\n",
    "    print('A')\n",
    "elif result >= 80 :\n",
    "    print('B')\n",
    "elif result >= 70 :\n",
    "    print('C')\n",
    "elif result >= 60 :\n",
    "    print('D')\n",
    "else:\n",
    "    print(\"F\")"
   ]
  },
  {
   "cell_type": "code",
   "execution_count": 17,
   "metadata": {},
   "outputs": [
    {
     "name": "stdout",
     "output_type": "stream",
     "text": [
      "2000\n",
      "1\n"
     ]
    }
   ],
   "source": [
    "# 2753 / 윤년\n",
    "\n",
    "year = int(input())\n",
    "\n",
    "if ((year%4 == 0)and(year%100 !=0 or year%400==0)):\n",
    "    print(\"1\")\n",
    "else:\n",
    "    print(\"0\")"
   ]
  },
  {
   "cell_type": "code",
   "execution_count": 14,
   "metadata": {},
   "outputs": [
    {
     "name": "stdout",
     "output_type": "stream",
     "text": [
      "1 10\n",
      "0 25\n"
     ]
    }
   ],
   "source": [
    "# 2884 / 알람 시계 \n",
    "\n",
    "H, M = list(map(int, input().split()))\n",
    " \n",
    "alarm = H * 60 + M - 45\n",
    " \n",
    "# 0시에 알람을 맞춘 경우\n",
    "if(alarm < 0):\n",
    "        alarm = 24 * 60 + alarm\n",
    "alarm_H = alarm // 60\n",
    "alarm_M = alarm % 60\n",
    " \n",
    "print('%d %d' % (alarm_H, alarm_M))\n",
    "\n"
   ]
  },
  {
   "cell_type": "code",
   "execution_count": 2,
   "metadata": {},
   "outputs": [
    {
     "name": "stdout",
     "output_type": "stream",
     "text": [
      "40 20 30\n",
      "30\n"
     ]
    }
   ],
   "source": [
    "# 10817 / 세 수\n",
    "\n",
    "data = list(map(int, input().split()))\n",
    "\n",
    "sorted_list = sorted(data, reverse = True)\n",
    "print(sorted_list[1])"
   ]
  },
  {
   "cell_type": "code",
   "execution_count": null,
   "metadata": {},
   "outputs": [],
   "source": [
    "# 10817 / 세 수 / 기본적인 풀이\n",
    "\n",
    "a, b, c = map(int, input().split())\n",
    "# 객체정의를 a,b,c로 하지 않을 거면 굳이 map 한거를 list화 할 필요없다.\n",
    "\n",
    "if(a >= b):\n",
    "    if(a >= c):\n",
    "        if(b >= c):\n",
    "            print(b)\n",
    "        else:\n",
    "            print(c)\n",
    "    else:\n",
    "        print(a)\n",
    "else:\n",
    "    if(b >= c):\n",
    "        if(a >= c):\n",
    "            print(a)\n",
    "        else:\n",
    "            print(c)\n",
    "    else:\n",
    "        print(b)"
   ]
  },
  {
   "cell_type": "code",
   "execution_count": 3,
   "metadata": {},
   "outputs": [
    {
     "name": "stdout",
     "output_type": "stream",
     "text": [
      "40 20 30\n",
      "30\n"
     ]
    }
   ],
   "source": [
    "# 10817 / 세 수 / min-max 활용\n",
    "\n",
    "a, b, c = input().split()\n",
    "a = int(a); b = int(b); c = int(c)\n",
    "max_ = max(a, b, c)\n",
    "min_ = min(a, b, c)\n",
    "print(a + b + c - max_ - min_)"
   ]
  },
  {
   "cell_type": "code",
   "execution_count": 5,
   "metadata": {},
   "outputs": [
    {
     "name": "stdout",
     "output_type": "stream",
     "text": [
      "40 20 30\n",
      "30\n"
     ]
    }
   ],
   "source": [
    "# 10817 / 세 수 / 어차피 정렬된 값에서 찾는거기 때문에 reverse는 때로는 필요하지 않다.\n",
    "\n",
    "input_ = list(map(int, input().split()))\n",
    "\n",
    "output_ = sorted(input_)\n",
    "print(output_[1])"
   ]
  },
  {
   "cell_type": "markdown",
   "metadata": {},
   "source": [
    "# for문 연습"
   ]
  },
  {
   "cell_type": "code",
   "execution_count": 8,
   "metadata": {},
   "outputs": [
    {
     "name": "stdout",
     "output_type": "stream",
     "text": [
      "2\n",
      "2 * 1 = 2\n",
      "2 * 2 = 4\n",
      "2 * 3 = 6\n",
      "2 * 4 = 8\n",
      "2 * 5 = 10\n",
      "2 * 6 = 12\n",
      "2 * 7 = 14\n",
      "2 * 8 = 16\n",
      "2 * 9 = 18\n"
     ]
    }
   ],
   "source": [
    "# 2739 / 구구단\n",
    "\n",
    "n = int(input())\n",
    "\n",
    "for i in range(1, 10, +1):\n",
    "    result = n * i\n",
    "    print('{} * {} = {}'.format(n, i, result))"
   ]
  },
  {
   "cell_type": "code",
   "execution_count": 5,
   "metadata": {},
   "outputs": [
    {
     "name": "stdout",
     "output_type": "stream",
     "text": [
      "5\n",
      "1 1\n",
      "2\n",
      "3 3\n",
      "6\n",
      "2 2\n",
      "4\n",
      "1 5 \n",
      "6\n",
      "1 7\n",
      "8\n"
     ]
    }
   ],
   "source": [
    "# 10950 / A+B-3\n",
    "\n",
    "test_case = int(input())\n",
    "\n",
    "for case in range(test_case):\n",
    "    a, b = input().split()\n",
    "    # a, b를 for문 안에서 받는게 중요했다. 내가 뽑은 case가 for문 안에서 어떻게 도는지는 아직 이해 못했다.\n",
    "    \n",
    "    print (int(a) + int(b))"
   ]
  },
  {
   "cell_type": "code",
   "execution_count": 3,
   "metadata": {},
   "outputs": [
    {
     "name": "stdout",
     "output_type": "stream",
     "text": [
      "3\n",
      "6\n"
     ]
    }
   ],
   "source": [
    "# 8393 / 합\n",
    "\n",
    "n = int(input())\n",
    "result = 0\n",
    "\n",
    "for i in range(1, n+1):\n",
    "    result += i\n",
    "print(result)          # 마지막 프린트를 들여쓰기 해버리면 for문안에서 더해지는 과정이 프린트 된다.\n",
    "    "
   ]
  },
  {
   "cell_type": "markdown",
   "metadata": {},
   "source": [
    "# 15552 / 빠른 A+B\n",
    "* 본격적으로 for문 문제를 풀기 전에 주의해야 할 점이 있다.\n",
    "* 입출력 방식이 느리면 여러 줄을 입력받거나 출력할 때 시간초과가 날 수 있다는 점이다.\n",
    "* Python을 사용하고 있다면, input 대신 sys.stdin.readline을 사용할 수 있다. \n",
    "* 단, 이때는 맨 끝의 개행문자까지 같이 입력받기 때문에 문자열을 저장하고 싶을 경우 .rstrip()을 추가로 해 주는 것이 좋다."
   ]
  },
  {
   "cell_type": "code",
   "execution_count": 13,
   "metadata": {},
   "outputs": [
    {
     "name": "stdout",
     "output_type": "stream",
     "text": [
      "5\n"
     ]
    },
    {
     "ename": "ValueError",
     "evalue": "not enough values to unpack (expected 2, got 0)",
     "output_type": "error",
     "traceback": [
      "\u001b[1;31m---------------------------------------------------------------------------\u001b[0m",
      "\u001b[1;31mValueError\u001b[0m                                Traceback (most recent call last)",
      "\u001b[1;32m<ipython-input-13-b88dee189df5>\u001b[0m in \u001b[0;36m<module>\u001b[1;34m\u001b[0m\n\u001b[0;32m      4\u001b[0m \u001b[1;33m\u001b[0m\u001b[0m\n\u001b[0;32m      5\u001b[0m \u001b[1;32mfor\u001b[0m \u001b[0mi\u001b[0m \u001b[1;32min\u001b[0m \u001b[0mrange\u001b[0m\u001b[1;33m(\u001b[0m\u001b[0mtest_case\u001b[0m\u001b[1;33m)\u001b[0m\u001b[1;33m:\u001b[0m\u001b[1;33m\u001b[0m\u001b[1;33m\u001b[0m\u001b[0m\n\u001b[1;32m----> 6\u001b[1;33m         \u001b[0ma\u001b[0m\u001b[1;33m,\u001b[0m \u001b[0mb\u001b[0m \u001b[1;33m=\u001b[0m \u001b[0mmap\u001b[0m\u001b[1;33m(\u001b[0m\u001b[0mint\u001b[0m\u001b[1;33m,\u001b[0m\u001b[0msys\u001b[0m\u001b[1;33m.\u001b[0m\u001b[0mstdin\u001b[0m\u001b[1;33m.\u001b[0m\u001b[0mreadline\u001b[0m\u001b[1;33m(\u001b[0m\u001b[1;33m)\u001b[0m\u001b[1;33m.\u001b[0m\u001b[0msplit\u001b[0m\u001b[1;33m(\u001b[0m\u001b[1;33m)\u001b[0m\u001b[1;33m)\u001b[0m\u001b[1;33m\u001b[0m\u001b[1;33m\u001b[0m\u001b[0m\n\u001b[0m\u001b[0;32m      7\u001b[0m \u001b[1;33m\u001b[0m\u001b[0m\n\u001b[0;32m      8\u001b[0m         \u001b[0mprint\u001b[0m\u001b[1;33m(\u001b[0m\u001b[0ma\u001b[0m\u001b[1;33m+\u001b[0m\u001b[0mb\u001b[0m\u001b[1;33m)\u001b[0m\u001b[1;33m\u001b[0m\u001b[1;33m\u001b[0m\u001b[0m\n",
      "\u001b[1;31mValueError\u001b[0m: not enough values to unpack (expected 2, got 0)"
     ]
    }
   ],
   "source": [
    "import sys # sys 모듈은 파이썬 인터프리터가 제공하는 변수와 함수를 직접 제어할 수 있게 해주는 모듈이다.\n",
    "\n",
    "test_case = int(input())\n",
    "\n",
    "for i in range(test_case):\n",
    "        a, b = map(int,sys.stdin.readline().split())\n",
    "        \n",
    "        print(a+b)"
   ]
  },
  {
   "cell_type": "code",
   "execution_count": 15,
   "metadata": {},
   "outputs": [
    {
     "name": "stdout",
     "output_type": "stream",
     "text": [
      "5\n",
      "1\n",
      "2\n",
      "3\n",
      "4\n",
      "5\n"
     ]
    }
   ],
   "source": [
    "# 2741 / n 찍기\n",
    "\n",
    "n = int(input())\n",
    "\n",
    "for i in range(1, n+1, +1):\n",
    "    print(i)"
   ]
  },
  {
   "cell_type": "code",
   "execution_count": 16,
   "metadata": {},
   "outputs": [
    {
     "name": "stdout",
     "output_type": "stream",
     "text": [
      "5\n",
      "5\n",
      "4\n",
      "3\n",
      "2\n",
      "1\n"
     ]
    }
   ],
   "source": [
    "# 2741 / 기찍 n\n",
    "\n",
    "n = int(input())\n",
    "\n",
    "for i in range(n, 0, -1):\n",
    "    print(i)"
   ]
  },
  {
   "cell_type": "code",
   "execution_count": 3,
   "metadata": {},
   "outputs": [
    {
     "name": "stdout",
     "output_type": "stream",
     "text": [
      "5\n",
      "1 1\n",
      "Case #1: 2\n",
      "2 3\n",
      "Case #2: 5\n",
      "3 4\n",
      "Case #3: 7\n",
      "9 8\n",
      "Case #4: 17\n",
      "5 2\n",
      "Case #5: 7\n"
     ]
    }
   ],
   "source": [
    "# 11021 / A + B - 7\n",
    "\n",
    "T = int(input())\n",
    "\n",
    "for i in range(T):\n",
    "    a, b = map(int, input().split())\n",
    "    print(\"Case #{}: {}\".format(i+1, a + b))"
   ]
  },
  {
   "cell_type": "code",
   "execution_count": 5,
   "metadata": {},
   "outputs": [
    {
     "name": "stdout",
     "output_type": "stream",
     "text": [
      "5\n",
      "1 1\n",
      "Case #1: 1 + 1 = 2\n",
      "2 3\n",
      "Case #2: 2 + 3 = 5\n",
      "3 4\n",
      "Case #3: 3 + 4 = 7\n",
      "9 8\n",
      "Case #4: 9 + 8 = 17\n",
      "5 2\n",
      "Case #5: 5 + 2 = 7\n"
     ]
    }
   ],
   "source": [
    "# 11021 / A + B - 8\n",
    "\n",
    "T = int(input())\n",
    "\n",
    "for i in range(T):\n",
    "    a, b = map(int, input().split())\n",
    "    c = a + b\n",
    "    print(\"Case #{}: {} + {} = {}\".format(i+1, a, b, c))"
   ]
  },
  {
   "cell_type": "code",
   "execution_count": 7,
   "metadata": {},
   "outputs": [
    {
     "name": "stdout",
     "output_type": "stream",
     "text": [
      "5\n",
      "*\n",
      "**\n",
      "***\n",
      "****\n",
      "*****\n"
     ]
    }
   ],
   "source": [
    "# 2438 / 별찍기 -1\n",
    "\n",
    "n = int(input())\n",
    "\n",
    "for i in range(1, n+1 , +1):\n",
    "    print(\"*\"*i)\n"
   ]
  },
  {
   "cell_type": "code",
   "execution_count": 8,
   "metadata": {},
   "outputs": [
    {
     "name": "stdout",
     "output_type": "stream",
     "text": [
      "5\n",
      "    *\n",
      "   **\n",
      "  ***\n",
      " ****\n",
      "*****\n"
     ]
    }
   ],
   "source": [
    "# 2439 / 별찍기 -2\n",
    "\n",
    "n = int(input())\n",
    "\n",
    "for i in range(1, n+1, +1):\n",
    "    reverse_i = n - i\n",
    "    print(\" \"*reverse_i + \"*\"*i)"
   ]
  },
  {
   "cell_type": "code",
   "execution_count": 25,
   "metadata": {},
   "outputs": [
    {
     "name": "stdout",
     "output_type": "stream",
     "text": [
      "10 5\n",
      "1 10 4 9 2 3 8 5 7 6\n",
      "1423"
     ]
    }
   ],
   "source": [
    "# 10871 / x보다 작은 수\n",
    "\n",
    "n, x = map(int, input().split())\n",
    "\n",
    "# 수열 A를 이루는 정수 N개\n",
    "a = list(map(int, input().split()))\n",
    "\n",
    "for i in range(n):\n",
    "    if x > a[i]:\n",
    "        print(a[i], end='')"
   ]
  },
  {
   "cell_type": "code",
   "execution_count": null,
   "metadata": {},
   "outputs": [],
   "source": []
  },
  {
   "cell_type": "code",
   "execution_count": null,
   "metadata": {},
   "outputs": [],
   "source": []
  }
 ],
 "metadata": {
  "kernelspec": {
   "display_name": "Python 3",
   "language": "python",
   "name": "python3"
  }
 },
 "nbformat": 4,
 "nbformat_minor": 2
}
