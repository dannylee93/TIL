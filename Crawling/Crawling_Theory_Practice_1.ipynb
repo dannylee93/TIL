{
 "cells": [
  {
   "cell_type": "code",
   "execution_count": 1,
   "metadata": {},
   "outputs": [],
   "source": [
    "# requests / BeutifulSoup 라이브러리 연습"
   ]
  },
  {
   "cell_type": "code",
   "execution_count": 4,
   "metadata": {},
   "outputs": [
    {
     "name": "stdout",
     "output_type": "stream",
     "text": [
      "b'<!DOCTYPE html>\\n<html>\\n    <head>\\n        <title>A simple example page</title>\\n    </head>\\n    <body>\\n        <p>Here is some simple content for this page.</p>\\n    </body>\\n</html>'\n"
     ]
    }
   ],
   "source": [
    "import requests\n",
    " \n",
    "page = requests.get(\"http://dataquestio.github.io/web-scraping-pages/simple.html\")\n",
    "\n",
    "print(page.content)\n",
    "\n",
    "# 리퀘스트 가져온다음, 임의의 주소의 html 문서 보려고 할때 >>>.content 없으면 request[200] 나옴"
   ]
  },
  {
   "cell_type": "code",
   "execution_count": 27,
   "metadata": {},
   "outputs": [
    {
     "name": "stdout",
     "output_type": "stream",
     "text": [
      "<!DOCTYPE html>\n",
      "<html>\n",
      " <head>\n",
      "  <title>\n",
      "   A simple example page\n",
      "  </title>\n",
      " </head>\n",
      " <body>\n",
      "  <p>\n",
      "   Here is some simple content for this page.\n",
      "  </p>\n",
      " </body>\n",
      "</html>\n"
     ]
    }
   ],
   "source": [
    "from bs4 import BeautifulSoup\n",
    "soup = BeautifulSoup(page.content, 'html.parser')\n",
    "\n",
    "print(soup.prettify()) # 뒤에 .prettify() 문서 넣으면 부모관계까지 보여줌\n",
    "\n",
    "# BeautifulSoup는 이런 계층적 관계를 이용해서 이용해 데이터를 추출하는 방식사용 / 뷰숩이 자체적으로 html 문서를 리스트 안에 저장함\n",
    "# \\n 은 물자열 데이터를 보여줄 수 있도록 나눠줌\n",
    "\n"
   ]
  },
  {
   "cell_type": "code",
   "execution_count": 50,
   "metadata": {},
   "outputs": [
    {
     "data": {
      "text/plain": [
       "[bs4.element.Doctype, bs4.element.NavigableString, bs4.element.Tag]"
      ]
     },
     "execution_count": 50,
     "metadata": {},
     "output_type": "execute_result"
    }
   ],
   "source": [
    "[type(item) for item in list(soup.children)]\n",
    "\n",
    "# 함수 이해: item의 타입을 볼건데, 그 아이템은 [수프 칠드런리스트]의 리스트 값들중 하나씩 뽑아서 보여줘\n",
    "#1. Doctype 클래스는 BeautifulSoup에서 <!DOCTPYE> 태그를 나타내기 위한 클래스입니다. \n",
    "# 2. NavigableString은 태그 사이에 있는 문자열 데이터를 나타냅니다\n",
    "# 3. Tag는 말 그대로 html tag 정보를 나타내는 클래스입니다.\n",
    "# 즉 데이터 추출할때는 NavigableString, 다른 태그들을 이용하려면 tag"
   ]
  },
  {
   "cell_type": "code",
   "execution_count": 45,
   "metadata": {},
   "outputs": [
    {
     "data": {
      "text/plain": [
       "['html', '\\n', <html>\n",
       " <head>\n",
       " <title>A simple example page</title>\n",
       " </head>\n",
       " <body>\n",
       " <p>Here is some simple content for this page.</p>\n",
       " </body>\n",
       " </html>]"
      ]
     },
     "execution_count": 45,
     "metadata": {},
     "output_type": "execute_result"
    }
   ],
   "source": [
    "list(soup.children)"
   ]
  },
  {
   "cell_type": "code",
   "execution_count": 46,
   "metadata": {},
   "outputs": [
    {
     "data": {
      "text/plain": [
       "['\\n', <head>\n",
       " <title>A simple example page</title>\n",
       " </head>, '\\n', <body>\n",
       " <p>Here is some simple content for this page.</p>\n",
       " </body>, '\\n']"
      ]
     },
     "execution_count": 46,
     "metadata": {},
     "output_type": "execute_result"
    }
   ],
   "source": [
    "list(soup.find('html'))   # soup라는 객체에 종속 태그들을 출력  Find('') 안에 자식들을 하나의 리스트로 묶음"
   ]
  },
  {
   "cell_type": "code",
   "execution_count": 52,
   "metadata": {},
   "outputs": [
    {
     "data": {
      "text/plain": [
       "<html>\n",
       "<head>\n",
       "<title>A simple example page</title>\n",
       "</head>\n",
       "<body>\n",
       "<p>Here is some simple content for this page.</p>\n",
       "</body>\n",
       "</html>"
      ]
     },
     "execution_count": 52,
     "metadata": {},
     "output_type": "execute_result"
    }
   ],
   "source": [
    "html = list(soup.children)[2] # 가장 마지막에 있었던 리스트 안에 값"
   ]
  },
  {
   "cell_type": "code",
   "execution_count": 59,
   "metadata": {},
   "outputs": [
    {
     "name": "stdout",
     "output_type": "stream",
     "text": [
      "Here is some simple content for this page.\n"
     ]
    }
   ],
   "source": [
    "body = list(html.children)[3]  # 쪼개진 html 값의 <body>부분\n",
    "p = list(body.children)[1]     # <body>에서 쪼개진 값 중에 p태그가 있는 값\n",
    "print(p.get_text())            # .get_text() 하면 문자열 데이터만 보여주고 태그는 없어짐"
   ]
  },
  {
   "cell_type": "code",
   "execution_count": null,
   "metadata": {},
   "outputs": [],
   "source": [
    "# strip()  ???"
   ]
  },
  {
   "cell_type": "code",
   "execution_count": null,
   "metadata": {},
   "outputs": [],
   "source": [
    "import requests\n",
    "from bs4 import BeautifulSoup\n",
    " \n",
    "page = requests.get(\"http://dataquestio.github.io/web-scraping-pages/simple.html\")\n",
    "soup = BeautifulSoup(page.content, 'html.parser')\n",
    "html = list(soup.children)[2]\n",
    "body = list(html.children)[3]\n",
    "p = list(body.children)[1]\n",
    " \n",
    "print(p.get_text())\n",
    "\n",
    "# 최종 정리본\n",
    "# 최종 강평: 여러번의 list 자료형을 중복해서 사용해야 하므로 번거로운 면이 있음\n",
    "# BeautifulSoup에서는 html 태그 정보를 한번에 추출해 낼 수 있는 방식, id혹은class 명을 이용한 접근 방식, css selector 이용 필요!"
   ]
  }
 ],
 "metadata": {
  "kernelspec": {
   "display_name": "Python 3",
   "language": "python",
   "name": "python3"
  },
  "language_info": {
   "codemirror_mode": {
    "name": "ipython",
    "version": 3
   },
   "file_extension": ".py",
   "mimetype": "text/x-python",
   "name": "python",
   "nbconvert_exporter": "python",
   "pygments_lexer": "ipython3",
   "version": "3.7.3"
  }
 },
 "nbformat": 4,
 "nbformat_minor": 2
}
