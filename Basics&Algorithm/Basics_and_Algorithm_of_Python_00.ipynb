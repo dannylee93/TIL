{
 "cells": [
  {
   "cell_type": "markdown",
   "metadata": {},
   "source": [
    "## 파이썬 기초 복습 및 알고리즘 연습 00\n",
    "- 출력방식\n",
    "    - 영문과 숫자 `,` `_` 로 이루어진다.\n",
    "    - 대소문자를 구분\n",
    "    - 문자나 `,` `_` 로 시작한다.\n",
    "    - 특수문자 사용 안된다.(`%`, `&` 등)\n",
    "    - 키워드를 사용하면 안된다.(`if`, `for` 등)\n",
    "- 변수입력과 연산자\n",
    "- 조건문 if(분기문, 중첩문)\n",
    "- 반복문(for, while, break, continue)"
   ]
  },
  {
   "cell_type": "code",
   "execution_count": 1,
   "metadata": {},
   "outputs": [
    {
     "name": "stdout",
     "output_type": "stream",
     "text": [
      "number\n",
      "1 2 3\n",
      "number :  1 2 3\n",
      "1 2 3\n",
      "1, 2, 3\n",
      "1\n",
      "2\n",
      "3\n",
      "1 2\n",
      "3\n"
     ]
    }
   ],
   "source": [
    "# 출력방식\n",
    "print('number')\n",
    "\n",
    "a,b,c = 1,2,3\n",
    "print(a,b,c)\n",
    "\n",
    "print(\"number : \",a,b,c)\n",
    "\n",
    "print(a, b, c)\n",
    "\n",
    "print(a, b, c, sep=', ')\n",
    "\n",
    "print(a,b,c, sep='\\n')    # 줄바꿔 출력하기\n",
    "\n",
    "print(a, end=' ')         # 줄바꿈 바꾸기\n",
    "print(b)\n",
    "print(c)"
   ]
  },
  {
   "cell_type": "code",
   "execution_count": 3,
   "metadata": {
    "scrolled": true
   },
   "outputs": [
    {
     "name": "stdout",
     "output_type": "stream",
     "text": [
      "숫자를 입력하세요 :5\n",
      "5\n",
      "숫자를 입력하세요 :2 3\n",
      "23\n",
      "23\n",
      "숫자를 입력하세요 :2 3\n",
      "5\n",
      "숫자를 입력하세요 :2 3\n",
      "5\n"
     ]
    }
   ],
   "source": [
    "# 변수입력과 연산자\n",
    "\n",
    "a = input(\"숫자를 입력하세요 :\") \n",
    "print(a)\n",
    "\n",
    "a, b = input(\"숫자를 입력하세요 :\").split()\n",
    "print(a + b)    # a와 b 변수가 단순히 연결만 된다.\n",
    "c = a + b\n",
    "print(c)        # 또 다른 변수에 담아도 마찬가지.\n",
    "\n",
    "# input data의 변수를 바꾸어야 한다.\n",
    "a, b = input(\"숫자를 입력하세요 :\").split()\n",
    "a = int(a)\n",
    "b = int(b)\n",
    "print(a + b)\n",
    "\n",
    "# 위의 변경과정을 빠르게 하려면 map('type', __input__) 사용(2개 인자)\n",
    "a, b = map(int, input(\"숫자를 입력하세요 :\").split())\n",
    "print(a + b)\n"
   ]
  },
  {
   "cell_type": "code",
   "execution_count": 4,
   "metadata": {},
   "outputs": [
    {
     "name": "stdout",
     "output_type": "stream",
     "text": [
      "lucky\n",
      "unlucky\n",
      "10 보다 작은 자연수\n",
      "10 보다 작은 자연수\n",
      "음수\n",
      "B 학점\n"
     ]
    }
   ],
   "source": [
    "# 조건문 if(분기문, 중첩문)\n",
    "\n",
    "# 1. 같다\n",
    "x = 7\n",
    "if x == 7:\n",
    "    print('lucky')\n",
    "\n",
    "    \n",
    "# 2. 같지 않다\n",
    "x = 5\n",
    "if x != 7:\n",
    "    print('unlucky')\n",
    "\n",
    "\n",
    "# 3. 중첩\n",
    "x = 9\n",
    "if x> 0:\n",
    "    if x < 10:\n",
    "        print('10 보다 작은 자연수')\n",
    "\n",
    "        \n",
    "# 4. 중첩(if를 한개만 써서)\n",
    "x = 7\n",
    "if x> 0 and x<10:\n",
    "        print('10 보다 작은 자연수')\n",
    "        \n",
    "# 5. 분기문(if-else / 참-거짓 분류)\n",
    "x = 10\n",
    "if x > 10:\n",
    "    print('양수')\n",
    "else:\n",
    "    print('음수')\n",
    "    \n",
    "# 6. 다중 if 문\n",
    "x = 83\n",
    "if x >= 90:\n",
    "    print('A 학점')\n",
    "elif x >= 80:\n",
    "    print('B 학점')\n",
    "elif x >= 70:\n",
    "    print('C 학점')\n",
    "elif x >= 60:\n",
    "    print('D 학점')\n",
    "else:\n",
    "    print('F 학점')"
   ]
  },
  {
   "cell_type": "code",
   "execution_count": 5,
   "metadata": {},
   "outputs": [
    {
     "name": "stdout",
     "output_type": "stream",
     "text": [
      "[1, 2, 3, 4, 5, 6, 7, 8, 9, 10]\n",
      "hello hello hello hello hello hello hello hello hello hello 1\n",
      "2\n",
      "3\n",
      "4\n",
      "5\n",
      "6\n",
      "7\n",
      "8\n",
      "9\n",
      "10\n",
      "1\n",
      "2\n",
      "3\n",
      "4\n",
      "5\n",
      "1\n",
      "3\n",
      "5\n",
      "7\n",
      "9\n"
     ]
    }
   ],
   "source": [
    "# 반복문(for, while, break, continue)\n",
    "\n",
    "# 1. 범위 반복\n",
    "a = range(1, 11)\n",
    "print(list(a))\n",
    "\n",
    "for i in range(1, 11):\n",
    "    print('hello', end=' ')\n",
    "    \n",
    "\n",
    "# 2. while\n",
    "i = 1\n",
    "while i <=10:\n",
    "    print(i)\n",
    "    i = i+1\n",
    "    \n",
    "# 3. break\n",
    "i = 1\n",
    "while True:\n",
    "    print(i)\n",
    "    if i == 5:\n",
    "        break\n",
    "    i += 1\n",
    "    \n",
    "\n",
    "# 4. continue (특정한 조건을 건너 뛰고 계속 실행하고 싶을 때)\n",
    "for i in range(1, 11):\n",
    "    if i%2 == 0:\n",
    "        continue\n",
    "    print(i)"
   ]
  }
 ],
 "metadata": {
  "kernelspec": {
   "display_name": "Python 3",
   "language": "python",
   "name": "python3"
  },
  "language_info": {
   "codemirror_mode": {
    "name": "ipython",
    "version": 3
   },
   "file_extension": ".py",
   "mimetype": "text/x-python",
   "name": "python",
   "nbconvert_exporter": "python",
   "pygments_lexer": "ipython3",
   "version": "3.7.4"
  }
 },
 "nbformat": 4,
 "nbformat_minor": 2
}
