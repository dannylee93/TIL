{
 "cells": [
  {
   "cell_type": "markdown",
   "metadata": {},
   "source": [
    "## 파이썬 기초 복습 및 알고리즘 연습 01\n",
    "- 반복문을 이용한 문제풀이\n",
    "- 중첩 반복문(2중 조건문)\n",
    "- 문자열과 내장함수\n",
    "- 리스트와 내장함수\n",
    "- 2차원 리스트 생성 및 접근\n",
    "- 함수만들기\n",
    "- 람다 함수"
   ]
  },
  {
   "cell_type": "code",
   "execution_count": 5,
   "metadata": {},
   "outputs": [
    {
     "name": "stdout",
     "output_type": "stream",
     "text": [
      "5\n",
      "1\n",
      "3\n",
      "5\n",
      "========================================\n",
      "5\n",
      "15\n"
     ]
    }
   ],
   "source": [
    "# 홀짝\n",
    "n = int(input())\n",
    "for i in range(1, n+1):\n",
    "    if i % 2 == 1:\n",
    "        print(i)\n",
    "    \n",
    "print('='*40)\n",
    "\n",
    "# 합계 연산\n",
    "n = int(input())\n",
    "sum = 0\n",
    "for i in range(1, n+1):\n",
    "    sum = sum+i\n",
    "print(sum)"
   ]
  },
  {
   "cell_type": "code",
   "execution_count": 2,
   "metadata": {},
   "outputs": [
    {
     "name": "stdout",
     "output_type": "stream",
     "text": [
      "01234\n",
      "01234\n",
      "01234\n",
      "01234\n",
      "01234\n"
     ]
    }
   ],
   "source": [
    "# 중첩 반복문\n",
    "\n",
    "for i in range(5):\n",
    "    for j in range(5):\n",
    "        print(j, end='')\n",
    "    print()    # 줄바꿈"
   ]
  },
  {
   "cell_type": "code",
   "execution_count": 3,
   "metadata": {},
   "outputs": [
    {
     "name": "stdout",
     "output_type": "stream",
     "text": [
      "IT IS TIME\n",
      "It is time\n",
      "it is time\n",
      "IT IS TIME\n",
      "1\n",
      "2\n",
      "It i\n",
      "is\n",
      "10\n",
      "It is time\n",
      "I \n",
      "t i s t i m e "
     ]
    }
   ],
   "source": [
    "# 문자열과 내장함수\n",
    "\n",
    "msg = \"It is time\"\n",
    "print(msg.upper())    # 대문자\n",
    "print(msg)            # 원본은 변화없이 있음\n",
    "print(msg.lower())    # 소문자\n",
    "\n",
    "tmp = msg.upper()\n",
    "print(tmp)\n",
    "print(tmp.find('T'))  # 해당 알파벳의 문자열 내 첫 인덱스 추출\n",
    "print(tmp.count('T'))\n",
    "print(msg[:4])\n",
    "print(msg[3:5])\n",
    "print(len(msg))\n",
    "\n",
    "for i in range(len(msg)):\n",
    "    print(msg[i], end='')\n",
    "print()\n",
    "    \n",
    "for x in msg:\n",
    "    if x.isupper():    # 참-거짓으로 판별\n",
    "        print(x, end=' ')\n",
    "print()\n",
    "\n",
    "for x in msg:\n",
    "    if x.islower():    # 참-거짓으로 판별\n",
    "        print(x, end=' ')"
   ]
  },
  {
   "cell_type": "code",
   "execution_count": 4,
   "metadata": {},
   "outputs": [
    {
     "name": "stdout",
     "output_type": "stream",
     "text": [
      "[]\n",
      "[]\n",
      "1\n",
      "[1, 2, 3, 4, 5, 6, 7, 8, 9, 10]\n",
      "[1, 2, 3, 4, 5, 1, 2, 3, 4, 5, 6, 7, 8, 9, 10]\n",
      "[1, 2, 3, 4, 5, 6]\n",
      "[1, 2, 3, 7, 4, 5, 6]\n",
      "[1, 2, 3, 7, 4, 5]\n",
      "[1, 2, 3, 4, 5]\n",
      "3\n",
      "========================================\n",
      "[1, 2, 3, 4, 5, 6, 7, 8, 9, 10]\n",
      "10\n",
      "1\n",
      "3\n",
      "[10, 5, 2, 4, 8, 7, 6, 1, 3, 9]\n",
      "[10, 9, 8, 7, 6, 5, 4, 3, 2, 1]\n",
      "[1, 2, 3, 4, 5, 6, 7, 8, 9, 10]\n",
      "[]\n"
     ]
    }
   ],
   "source": [
    "# 리스트와 내장함수\n",
    "import random as rd     # 데이터 셔플 용도\n",
    "\n",
    "# 1. 깡통 리스트 만들기 두가지\n",
    "a = []\n",
    "print(a)\n",
    "b = list()\n",
    "print(b)\n",
    "\n",
    "# 2. 리스트 사용\n",
    "a = [1,2,3,4,5]\n",
    "print(a[0])\n",
    "\n",
    "b = list(range(1, 11))\n",
    "print(b)\n",
    "\n",
    "c = a+b\n",
    "print(c)\n",
    "\n",
    "# 데이터 추가\n",
    "a = [1,2,3,4,5]\n",
    "a.append(6)\n",
    "print(a)\n",
    "\n",
    "a.insert(3, 7)\n",
    "print(a)\n",
    "\n",
    "# 특정 값 꺼내기\n",
    "a.pop()            # 인자 없을 때 맨 뒤에 자료를 하나 빼냄\n",
    "print(a)\n",
    "\n",
    "a.pop(3)           # 리스트의 n번 위치가 빼내짐\n",
    "print(a)\n",
    "\n",
    "# 특정 값 지우기\n",
    "a.remove(4)        # 리스트의 n번 위치가 삭제\n",
    "\n",
    "print(a.index(5))  # n값을 가진 인덱스 위치를 출력\n",
    "\n",
    "print('='*40)\n",
    "# 기타\n",
    "a = list(range(1, 11))\n",
    "print(a)\n",
    "print(max(a))\n",
    "print(min(a))\n",
    "print(min(3, 7))   # 인자값 중 최대-최소\n",
    "\n",
    "# 오류 : print(sum(a))\n",
    "\n",
    "# 데이터 위치 섞기\n",
    "rd.shuffle(a)\n",
    "print(a)\n",
    "\n",
    "# 데이터 정렬\n",
    "a.sort(reverse=True)  # 내림차순\n",
    "print(a)\n",
    "\n",
    "a.sort()   # 기본 오름차순\n",
    "print(a)\n",
    "\n",
    "a.clear()  # 깡통 리스트만 남음\n",
    "print(a)"
   ]
  },
  {
   "cell_type": "code",
   "execution_count": 9,
   "metadata": {},
   "outputs": [
    {
     "name": "stdout",
     "output_type": "stream",
     "text": [
      "[23, 12, 36]\n",
      "[12, 36, 53]\n",
      "5\n",
      "(0, 23)\n",
      "(1, 12)\n",
      "(2, 36)\n",
      "(3, 53)\n",
      "(4, 19)\n",
      "0 & 23\n",
      "1 & 12\n",
      "2 & 36\n",
      "3 & 53\n",
      "4 & 19\n",
      "0 & 23\n",
      "1 & 12\n",
      "2 & 36\n",
      "3 & 53\n",
      "4 & 19\n"
     ]
    }
   ],
   "source": [
    "a = [23, 12, 36, 53, 19]\n",
    "print(a[ :3])\n",
    "print(a[1:4])\n",
    "print(len(a))\n",
    "\n",
    "for x in enumerate(a):\n",
    "    print(x)  # 튜플 값으로 (인덱스, 값)추출\n",
    "    \n",
    "\n",
    "for idx, x in enumerate(a):\n",
    "    print(idx, \"&\", x)  \n",
    "    \n",
    "for x in enumerate(a):\n",
    "    print(x[0], \"&\", x[1])  # 튜플 값으로 (인덱스, 값)추출"
   ]
  },
  {
   "cell_type": "code",
   "execution_count": 13,
   "metadata": {},
   "outputs": [
    {
     "name": "stdout",
     "output_type": "stream",
     "text": [
      "YES\n"
     ]
    }
   ],
   "source": [
    "# all() 안의 조건이 모두 참이면 True 반환\n",
    "if all(60>x for x in a):  \n",
    "    print('YES')\n",
    "else:\n",
    "    print('NO')"
   ]
  },
  {
   "cell_type": "code",
   "execution_count": 19,
   "metadata": {},
   "outputs": [
    {
     "name": "stdout",
     "output_type": "stream",
     "text": [
      "[0, 0, 0, 0, 0, 0, 0, 0, 0, 0]\n",
      "[[0, 0, 0], [0, 0, 0], [0, 0, 0]]\n",
      "[[0, 1, 0], [0, 0, 0], [0, 0, 0]]\n",
      "[[0, 1, 0], [0, 2, 0], [0, 0, 0]]\n"
     ]
    }
   ],
   "source": [
    "# 2차원 리스트 생성 및 접근\n",
    "\n",
    "a = [0] * 10\n",
    "print(a)\n",
    "\n",
    "a = [[0]*3 for _ in range(3)]\n",
    "print(a)\n",
    "\n",
    "a[0][1] = 1\n",
    "print(a)\n",
    "\n",
    "a[1][1] = 2\n",
    "print(a)"
   ]
  },
  {
   "cell_type": "code",
   "execution_count": 21,
   "metadata": {},
   "outputs": [
    {
     "data": {
      "text/plain": [
       "5"
      ]
     },
     "execution_count": 21,
     "metadata": {},
     "output_type": "execute_result"
    }
   ],
   "source": [
    "# 함수 만들기\n",
    "\n",
    "def add(a, b):\n",
    "    c = a + b \n",
    "    return c\n",
    "\n",
    "add(3, 2)"
   ]
  },
  {
   "cell_type": "code",
   "execution_count": 26,
   "metadata": {},
   "outputs": [
    {
     "name": "stdout",
     "output_type": "stream",
     "text": [
      "3\n",
      "[2, 3, 4]\n"
     ]
    }
   ],
   "source": [
    " # 람다 함수(함수에 이름이 없어서 '람다표현식' 이라고도 함)\n",
    "\n",
    "plus_two = lambda x : x+2\n",
    "print(plus_two(1))\n",
    "\n",
    "a = [1,2,3]\n",
    "plus_one = lambda x : x+1\n",
    "print(list(map(plus_one, a)))"
   ]
  },
  {
   "cell_type": "code",
   "execution_count": null,
   "metadata": {},
   "outputs": [],
   "source": []
  }
 ],
 "metadata": {
  "kernelspec": {
   "display_name": "Python 3",
   "language": "python",
   "name": "python3"
  },
  "language_info": {
   "codemirror_mode": {
    "name": "ipython",
    "version": 3
   },
   "file_extension": ".py",
   "mimetype": "text/x-python",
   "name": "python",
   "nbconvert_exporter": "python",
   "pygments_lexer": "ipython3",
   "version": "3.7.4"
  }
 },
 "nbformat": 4,
 "nbformat_minor": 2
}
