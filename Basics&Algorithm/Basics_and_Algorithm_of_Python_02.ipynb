{
 "cells": [
  {
   "cell_type": "markdown",
   "metadata": {},
   "source": [
    "## 파이썬 기초 복습 및 알고리즘 연습 02\n",
    "- k번 째 약수\n",
    "- 대표값"
   ]
  },
  {
   "cell_type": "code",
   "execution_count": 1,
   "metadata": {},
   "outputs": [
    {
     "name": "stdout",
     "output_type": "stream",
     "text": [
      "6 3\n",
      "2\n"
     ]
    }
   ],
   "source": [
    "# k번 째 약수\n",
    "data = list(map(int, input().split()))\n",
    "save = []\n",
    "for i in range(1, data[0]+1):\n",
    "    if data[0] % i == 0:\n",
    "        save.append(i)\n",
    "print(save[-data[1]])"
   ]
  },
  {
   "cell_type": "code",
   "execution_count": 2,
   "metadata": {},
   "outputs": [
    {
     "name": "stdout",
     "output_type": "stream",
     "text": [
      "10\n",
      "65 73 66 87 92 67 55 79 75 80\n",
      "74 9\n"
     ]
    }
   ],
   "source": [
    "# 대표값\n",
    "n = int(input())\n",
    "data = list(map(int, input().split()))\n",
    "average = round(sum(data) / len(data))\n",
    "a = [abs(average - val) for val in data]\n",
    "min_idx = []\n",
    "for i,idx in enumerate(a):\n",
    "    if idx == min(a):\n",
    "        min_idx.append(i)\n",
    "tmp = max([data[idx] for idx in min_idx])\n",
    "print(average, data.index(tmp)+1)"
   ]
  },
  {
   "cell_type": "code",
   "execution_count": 44,
   "metadata": {},
   "outputs": [
    {
     "name": "stdout",
     "output_type": "stream",
     "text": [
      "3\n",
      "125 15232 97\n",
      "97\n"
     ]
    }
   ],
   "source": [
    "# 자릿수의 합\n",
    "n = int(input())\n",
    "data = list(map(int, input().split()))\n",
    "\n",
    "def digit_sum(idx):\n",
    "    tmp = sum([int(i) for i in str(data[idx])])\n",
    "    return tmp\n",
    "\n",
    "sum_results = [digit_sum(num) for num in range(0, len(data))]\n",
    "ext_idx = sum_results.index(max(sum_results))\n",
    "print(data[ext_idx])"
   ]
  },
  {
   "cell_type": "code",
   "execution_count": null,
   "metadata": {},
   "outputs": [],
   "source": []
  }
 ],
 "metadata": {
  "kernelspec": {
   "display_name": "Python 3",
   "language": "python",
   "name": "python3"
  },
  "language_info": {
   "codemirror_mode": {
    "name": "ipython",
    "version": 3
   },
   "file_extension": ".py",
   "mimetype": "text/x-python",
   "name": "python",
   "nbconvert_exporter": "python",
   "pygments_lexer": "ipython3",
   "version": "3.7.4"
  }
 },
 "nbformat": 4,
 "nbformat_minor": 2
}
