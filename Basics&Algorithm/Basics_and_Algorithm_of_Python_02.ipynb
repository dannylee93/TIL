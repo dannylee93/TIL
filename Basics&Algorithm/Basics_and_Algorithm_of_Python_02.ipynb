{
 "cells": [
  {
   "cell_type": "markdown",
   "metadata": {},
   "source": [
    "## 파이썬 기초 복습 및 알고리즘 연습 02\n",
    "- k번 째 약수\n",
    "- k번 째 작은 수\n",
    "- k번 째 큰 수\n",
    "- 대표값\n",
    "- 자릿수의 합\n",
    "- 정다면체\n",
    "- 소수"
   ]
  },
  {
   "cell_type": "code",
   "execution_count": 3,
   "metadata": {},
   "outputs": [],
   "source": [
    "import sys\n",
    "sys.stdin=open(\"input.txt\", \"rt\")"
   ]
  },
  {
   "cell_type": "code",
   "execution_count": 4,
   "metadata": {},
   "outputs": [
    {
     "name": "stdout",
     "output_type": "stream",
     "text": [
      "6 3\n",
      "2\n"
     ]
    }
   ],
   "source": [
    "# k번 째 약수\n",
    "data = list(map(int, input().split()))\n",
    "save = []\n",
    "for i in range(1, data[0]+1):\n",
    "    if data[0] % i == 0:\n",
    "        save.append(i)\n",
    "print(save[-data[1]])"
   ]
  },
  {
   "cell_type": "code",
   "execution_count": null,
   "metadata": {},
   "outputs": [],
   "source": [
    "# k번째 작은 수\n",
    "T = int(input())\n",
    "for t in range(T):\n",
    "    # 첫번째 케이스\n",
    "    n,s,e,k = map(int, input().split())\n",
    "    # 두번째 케이스\n",
    "    a = list(map(int, input().split()))\n",
    "    a = a[s-1 : e]\n",
    "    a.sort()\n",
    "    print(\"#%d %d\" %(t+1, a[k-1]))"
   ]
  },
  {
   "cell_type": "code",
   "execution_count": 5,
   "metadata": {},
   "outputs": [],
   "source": [
    "# k번째 큰 수\n",
    "import sys\n",
    "sys.stdin=open(\"input.txt\", \"r\")\n",
    "\n",
    "n, k=map(int, input().split())\n",
    "a=list(map(int, input().split()))\n",
    "res=set()\n",
    "\n",
    "for i in range(n):\n",
    "    for j in range(i+1, n):\n",
    "        for m in range(j+1, n):\n",
    "            res.add(a[i]+a[j]+a[m])\n",
    "\n",
    "res=list(res)\n",
    "res.sort(reverse=True)\n",
    "\n",
    "print(res[k-1])"
   ]
  },
  {
   "cell_type": "code",
   "execution_count": 2,
   "metadata": {},
   "outputs": [
    {
     "name": "stdout",
     "output_type": "stream",
     "text": [
      "10\n",
      "65 73 66 87 92 67 55 79 75 80\n",
      "74 9\n"
     ]
    }
   ],
   "source": [
    "# 대표값\n",
    "n = int(input())\n",
    "data = list(map(int, input().split()))\n",
    "average = round(sum(data) / len(data))\n",
    "a = [abs(average - val) for val in data]\n",
    "min_idx = []\n",
    "for i,idx in enumerate(a):\n",
    "    if idx == min(a):\n",
    "        min_idx.append(i)\n",
    "tmp = max([data[idx] for idx in min_idx])\n",
    "print(average, data.index(tmp)+1)"
   ]
  },
  {
   "cell_type": "code",
   "execution_count": 44,
   "metadata": {},
   "outputs": [
    {
     "name": "stdout",
     "output_type": "stream",
     "text": [
      "3\n",
      "125 15232 97\n",
      "97\n"
     ]
    }
   ],
   "source": [
    "# 자릿수의 합\n",
    "n = int(input())\n",
    "data = list(map(int, input().split()))\n",
    "\n",
    "def digit_sum(idx):\n",
    "    tmp = sum([int(i) for i in str(data[idx])])\n",
    "    return tmp\n",
    "\n",
    "sum_results = [digit_sum(num) for num in range(0, len(data))]\n",
    "ext_idx = sum_results.index(max(sum_results))\n",
    "print(data[ext_idx])"
   ]
  },
  {
   "cell_type": "code",
   "execution_count": 6,
   "metadata": {},
   "outputs": [],
   "source": [
    "# 정다면체\n",
    "import sys\n",
    "sys.stdin=open(\"input.txt\", \"r\")\n",
    "\n",
    "n, m=map(int, input().split())\n",
    "cnt=[0]*(n+m+3)\n",
    "max=0\n",
    "\n",
    "for i in range(1, n+1):\n",
    "    for j in range(1, m+1):\n",
    "        cnt[i+j]=cnt[i+j]+1\n",
    "\n",
    "for i in range(n+m+1):\n",
    "    if cnt[i]>max:\n",
    "        max=cnt[i]\n",
    "    \n",
    "for i in range(n+m+1):\n",
    "    if cnt[i]==max:\n",
    "        print(i, end=' ')"
   ]
  },
  {
   "cell_type": "code",
   "execution_count": 7,
   "metadata": {},
   "outputs": [
    {
     "name": "stdout",
     "output_type": "stream",
     "text": [
      "20\n",
      "8\n"
     ]
    }
   ],
   "source": [
    "# 소수\n",
    "n = int(input())\n",
    "ch = [0]*(n+1)\n",
    "cnt = 0\n",
    "\n",
    "for i in range(2, n+1):\n",
    "    if ch[i] == 0:\n",
    "        cnt += 1\n",
    "        for j in range(i, n+1, i):\n",
    "            ch[j] = 1\n",
    "print(cnt)"
   ]
  },
  {
   "cell_type": "code",
   "execution_count": null,
   "metadata": {},
   "outputs": [],
   "source": []
  }
 ],
 "metadata": {
  "kernelspec": {
   "display_name": "Python 3",
   "language": "python",
   "name": "python3"
  },
  "language_info": {
   "codemirror_mode": {
    "name": "ipython",
    "version": 3
   },
   "file_extension": ".py",
   "mimetype": "text/x-python",
   "name": "python",
   "nbconvert_exporter": "python",
   "pygments_lexer": "ipython3",
   "version": "3.7.4"
  }
 },
 "nbformat": 4,
 "nbformat_minor": 2
}
