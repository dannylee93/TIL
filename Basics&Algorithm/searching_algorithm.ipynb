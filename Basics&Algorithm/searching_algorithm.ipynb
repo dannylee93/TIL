{
 "cells": [
  {
   "cell_type": "code",
   "execution_count": 3,
   "metadata": {},
   "outputs": [
    {
     "name": "stdout",
     "output_type": "stream",
     "text": [
      "5\n",
      "level\n",
      "#1 YES\n",
      "moon\n",
      "#2 NO\n",
      "abcba\n",
      "#3 YES\n",
      "soon\n",
      "#4 NO\n",
      "gooG\n",
      "#5 YES\n"
     ]
    }
   ],
   "source": [
    "## 회문문자열\n",
    "\n",
    "n = int(input())\n",
    "\n",
    "for i in range(n):\n",
    "    s = input()\n",
    "    # 대소문자 구별 안 하기 위해\n",
    "    s = s.upper()\n",
    "    # 문자열 길이 비교\n",
    "    size = len(s)\n",
    "    \n",
    "    # 양 끝부터 값 비교\n",
    "    for j in range(size//2):\n",
    "        if s[j] != s[-1-j]:\n",
    "            print('#%d NO' %(i+1))\n",
    "            break\n",
    "    else:\n",
    "        print('#%d YES' %(i+1))"
   ]
  },
  {
   "cell_type": "code",
   "execution_count": 8,
   "metadata": {},
   "outputs": [
    {
     "name": "stdout",
     "output_type": "stream",
     "text": [
      "g0en2Ts8eSoft\n",
      "28\n",
      "6\n"
     ]
    }
   ],
   "source": [
    "## 숫자만 추출\n",
    "\n",
    "s = input()\n",
    "res = 0\n",
    "for x in s:\n",
    "    if x.isdecimal():\n",
    "        res = res*10+int(x)\n",
    "print(res)\n",
    "\n",
    "cnt=0\n",
    "for i in range(1, res+1):\n",
    "    if res%i==0:\n",
    "        cnt +=1\n",
    "print(cnt)"
   ]
  },
  {
   "cell_type": "code",
   "execution_count": 2,
   "metadata": {},
   "outputs": [
    {
     "name": "stdout",
     "output_type": "stream",
     "text": [
      "5 10\n",
      "9 13\n",
      "1 2\n",
      "3 4\n",
      "5 6\n",
      "1 2\n",
      "3 4\n",
      "5 6\n",
      "1 20\n",
      "1 20\n",
      "1 2 3 4 10 9 8 7 13 12 11 5 6 14 15 16 17 18 19 20 "
     ]
    }
   ],
   "source": [
    "## 카드 역배치\n",
    "\n",
    "a = list(range(21))\n",
    "\n",
    "for _ in range(10):\n",
    "    s, e = map(int, input().split())\n",
    "    # 반복횟수\n",
    "    for i in range((e-s+1)//2):\n",
    "        # 데이터 스왑\n",
    "        a[s+i], a[e-i] = a[e-i], a[s+i] \n",
    "a.pop(0)\n",
    "for x in a:\n",
    "    print(x, end=' ')"
   ]
  },
  {
   "cell_type": "code",
   "execution_count": 3,
   "metadata": {},
   "outputs": [],
   "source": [
    "a = [1,3,5]\n",
    "b = [2,3,6,7,9]\n",
    "\n",
    "c = a+b"
   ]
  },
  {
   "cell_type": "code",
   "execution_count": 5,
   "metadata": {},
   "outputs": [
    {
     "data": {
      "text/plain": [
       "[1, 2, 3, 3, 5, 6, 7, 9]"
      ]
     },
     "execution_count": 5,
     "metadata": {},
     "output_type": "execute_result"
    }
   ],
   "source": [
    "c = sorted(c)\n",
    "c"
   ]
  },
  {
   "cell_type": "code",
   "execution_count": 7,
   "metadata": {},
   "outputs": [
    {
     "name": "stdout",
     "output_type": "stream",
     "text": [
      "3\n",
      "1 3 5\n",
      "5\n",
      "2 3 6 7 9\n",
      "1 2 3 3 5 6 7 9 "
     ]
    }
   ],
   "source": [
    "## 두 리스트 합치기\n",
    "\n",
    "n = int(input())\n",
    "data_0 = list(map(int, input().split()))\n",
    "m = int(input())\n",
    "data_1 = list(map(int, input().split()))\n",
    "\n",
    "results = data_0 + data_1\n",
    "results = sorted(results)\n",
    "\n",
    "for x in results:\n",
    "    print(x, end=' ')"
   ]
  },
  {
   "cell_type": "code",
   "execution_count": 11,
   "metadata": {},
   "outputs": [
    {
     "name": "stdout",
     "output_type": "stream",
     "text": [
      "3\n",
      "1 3 5\n",
      "5\n",
      "2 3 6 7 9\n",
      "1 2 3 3 5 6 7 9 "
     ]
    }
   ],
   "source": [
    "## 두 리스트 합치기(sort함수 사용하지 않고 시간복잡도를 줄이는 방법)\n",
    "\n",
    "n = int(input())\n",
    "a = list(map(int, input().split()))\n",
    "m = int(input())\n",
    "b = list(map(int, input().split()))\n",
    "p1=p2=0\n",
    "c = []\n",
    "\n",
    "while p1<n and p2<m:\n",
    "    if a[p1] <=b[p2]:\n",
    "        c.append(a[p1])\n",
    "        p1 += 1\n",
    "    else:\n",
    "        c.append(b[p2])\n",
    "        p2 += 1\n",
    "if p1<n:\n",
    "    c = c+a[p1:]\n",
    "if p2<m:\n",
    "    c = c+b[p2:]\n",
    "\n",
    "for x in c:\n",
    "    print(x, end=' ')"
   ]
  },
  {
   "cell_type": "code",
   "execution_count": null,
   "metadata": {},
   "outputs": [],
   "source": [
    "## 수의 합\n",
    "n, m = int(input())\n"
   ]
  },
  {
   "cell_type": "code",
   "execution_count": 19,
   "metadata": {},
   "outputs": [
    {
     "name": "stdout",
     "output_type": "stream",
     "text": [
      "5\n",
      "10 13 10 12 15\n",
      "12 39 30 23 11\n",
      "11 25 50 53 15\n",
      "19 27 29 37 27\n",
      "19 13 30 13 19\n",
      "155\n"
     ]
    }
   ],
   "source": [
    "## 격자판 최대합\n",
    "n = int(input())\n",
    "grid = []\n",
    "for _ in range(n):\n",
    "    data = list(map(int, input().split()))\n",
    "    grid.append(data)\n",
    "#print(grid)\n",
    "\n",
    "total_sum = []\n",
    "tmp_diag1 = 0\n",
    "tmp_diag2 = 0\n",
    "for i in range(n):\n",
    "    tmp_row = 0\n",
    "    tmp_col = 0\n",
    "    tmp_diag1 += grid[i][i]\n",
    "    tmp_diag2 += grid[i][(n-1)-i]\n",
    "    for j in range(n):\n",
    "        tmp_row += grid[i][j]\n",
    "        tmp_col += grid[j][i]\n",
    "\n",
    "    total_sum.append(tmp_row)\n",
    "    total_sum.append(tmp_col)\n",
    "total_sum.append(tmp_diag1)\n",
    "total_sum.append(tmp_diag2)\n",
    "\n",
    "print(max(total_sum))"
   ]
  },
  {
   "cell_type": "code",
   "execution_count": null,
   "metadata": {},
   "outputs": [],
   "source": []
  }
 ],
 "metadata": {
  "kernelspec": {
   "display_name": "Python 3",
   "language": "python",
   "name": "python3"
  },
  "language_info": {
   "codemirror_mode": {
    "name": "ipython",
    "version": 3
   },
   "file_extension": ".py",
   "mimetype": "text/x-python",
   "name": "python",
   "nbconvert_exporter": "python",
   "pygments_lexer": "ipython3",
   "version": "3.7.4"
  }
 },
 "nbformat": 4,
 "nbformat_minor": 2
}
