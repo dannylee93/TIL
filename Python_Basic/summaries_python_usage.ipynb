{
 "metadata": {
  "language_info": {
   "codemirror_mode": {
    "name": "ipython",
    "version": 3
   },
   "file_extension": ".py",
   "mimetype": "text/x-python",
   "name": "python",
   "nbconvert_exporter": "python",
   "pygments_lexer": "ipython3",
   "version": "3.8.2-final"
  },
  "orig_nbformat": 2,
  "kernelspec": {
   "name": "Python 3.8.2 64-bit",
   "display_name": "Python 3.8.2 64-bit",
   "metadata": {
    "interpreter": {
     "hash": "5edc29c2ed010d6458d71a83433b383a96a8cbd3efe8531bc90c4b8a5b8bcec9"
    }
   }
  }
 },
 "nbformat": 4,
 "nbformat_minor": 2,
 "cells": [
  {
   "source": [
    "\n",
    "<br></br>\n",
    "# Summaries Python Usages\n",
    "- 파이썬 코드 관련 문법 중 객체, 모듈 관련 내용을 정리한 공간입니다.\n",
    "- 정리해두고 참고하기 위해 정리한 코드도 일부 포함되어 있습니다."
   ],
   "cell_type": "markdown",
   "metadata": {}
  },
  {
   "source": [
    "### Recursion and Memoization"
   ],
   "cell_type": "markdown",
   "metadata": {}
  },
  {
   "cell_type": "code",
   "execution_count": 3,
   "metadata": {
    "tags": []
   },
   "outputs": [
    {
     "output_type": "stream",
     "name": "stdout",
     "text": "fibonacci(10) :  55\nfibonacci(10) :  12586269025\n"
    }
   ],
   "source": [
    "# 재귀함수와 메모화(Memoization)\n",
    "dict_temp = {\n",
    "    1 : 1,\n",
    "    2 : 1,\n",
    "}\n",
    "\n",
    "def fibonacci(n) :\n",
    "    if n in dict_temp :\n",
    "        return (dict_temp[n])\n",
    "    else :\n",
    "        output = fibonacci(n - 1) + fibonacci(n - 2)\n",
    "        dict_temp[n] = output\n",
    "        return (output)\n",
    "\n",
    "print(\"fibonacci(10) : \", fibonacci(10))\n",
    "print(\"fibonacci(10) : \", fibonacci(50))\n",
    "\n",
    "# 미리 계산된 값을 저장해서 활용하는 것을 메모한다고 표현하며, 메모화 기법을 사용했을 때 출력 속도가 빨라지게 된다."
   ]
  },
  {
   "source": [
    "### 함수 고급(lambda, tuple, ...)\n",
    "- 튜플 tuple : 리스트와 유사하지만 한번 정의하면 변경할 수 없어 함수와 많이 사용되는 자료형.\n",
    "- 람다 lambda : 함수를 매개변수처럼 전달해주는 기능\n",
    "    * lambda 매개변수 : 리턴값\n",
    "- 파일 스트림 관련 함수 : open(), close(), with 구문\n",
    "- generator, iterator, yield\n",
    "    - 제너레이터는 이터레이터를 직접 만들 때 사용하는 코드\n",
    "    - 함수 내부에 yield 키워드를 사용하면 해당 함수는 제너레이터 함수가 된다.\n",
    "    - 제너레이터 함수는 제너레이터를 리턴.\n",
    "    - 제너레이터 객체는 next() 함수를 사용해 함수 내부의 코드를 실행한다.\n",
    "    - 함수의 코드를 조금씩 실행할 때 사용하는 것이며, 메모리의 효율성을 위해서 이기도 하다.(yield 구문이 지점 역할)\n",
    "- 오류 및 예외 처리\n",
    "    - try - else - except - finally"
   ],
   "cell_type": "markdown",
   "metadata": {}
  },
  {
   "cell_type": "code",
   "execution_count": 18,
   "metadata": {
    "tags": []
   },
   "outputs": [
    {
     "output_type": "stream",
     "name": "stdout",
     "text": "10\n20\n30\n"
    },
    {
     "output_type": "error",
     "ename": "TypeError",
     "evalue": "&#39;tuple&#39; object does not support item assignment",
     "traceback": [
      "\u001b[0;31m---------------------------------------------------------------------------\u001b[0m",
      "\u001b[0;31mTypeError\u001b[0m                                 Traceback (most recent call last)",
      "\u001b[0;32m&lt;ipython-input-18-ecc317ce7ded&gt;\u001b[0m in \u001b[0;36m&lt;module&gt;\u001b[0;34m\u001b[0m\n\u001b[1;32m      6\u001b[0m \u001b[0mprint\u001b[0m\u001b[0;34m(\u001b[0m\u001b[0mtup_temp\u001b[0m\u001b[0;34m[\u001b[0m\u001b[0;36m2\u001b[0m\u001b[0;34m]\u001b[0m\u001b[0;34m)\u001b[0m\u001b[0;34m\u001b[0m\u001b[0;34m\u001b[0m\u001b[0m\n\u001b[1;32m      7\u001b[0m \u001b[0;34m\u001b[0m\u001b[0m\n\u001b[0;32m----&gt; 8\u001b[0;31m \u001b[0mtup_temp\u001b[0m\u001b[0;34m[\u001b[0m\u001b[0;36m0\u001b[0m\u001b[0;34m]\u001b[0m \u001b[0;34m=\u001b[0m \u001b[0;36m1\u001b[0m  \u001b[0;31m# 에러메세지 출력된다.\u001b[0m\u001b[0;34m\u001b[0m\u001b[0;34m\u001b[0m\u001b[0m\n\u001b[0m",
      "\u001b[0;31mTypeError\u001b[0m: &#39;tuple&#39; object does not support item assignment"
     ]
    }
   ],
   "source": [
    "# 튜플 tuple\n",
    "tup_temp = (10, 20, 30)\n",
    "\n",
    "print(tup_temp[0])\n",
    "print(tup_temp[1])\n",
    "print(tup_temp[2])\n",
    "\n",
    "tup_temp[0] = 1  # 에러메세지 출력된다."
   ]
  },
  {
   "cell_type": "code",
   "execution_count": 8,
   "metadata": {
    "tags": []
   },
   "outputs": [
    {
     "output_type": "stream",
     "name": "stdout",
     "text": "안녕하세요\n안녕하세요\n안녕하세요\n안녕하세요\n안녕하세요\n안녕하세요\n안녕하세요\n안녕하세요\n안녕하세요\n안녕하세요\n"
    }
   ],
   "source": [
    "# 일반적으로 함수를 매개변수로 사용할 때\n",
    "def call_10_times(func) :\n",
    "    for i in range(10) :\n",
    "        func()\n",
    "\n",
    "def print_hello() :\n",
    "    print(\"안녕하세요\")\n",
    "\n",
    "call_10_times(print_hello)"
   ]
  },
  {
   "cell_type": "code",
   "execution_count": 10,
   "metadata": {
    "tags": []
   },
   "outputs": [
    {
     "output_type": "stream",
     "name": "stdout",
     "text": "20\n"
    }
   ],
   "source": [
    "# 람다 lambda\n",
    "lamb_pls_10 = lambda x : x + 10\n",
    "\n",
    "print(lamb_pls_10(10)) "
   ]
  },
  {
   "cell_type": "code",
   "execution_count": 11,
   "metadata": {},
   "outputs": [],
   "source": [
    "# open - 사용 - close 순서로 진행 해야하지만 with 구문을 활용할 시, 자동으로 파일까지 종료된다.\n",
    "with open(\"basic.txt\", \"w\") as temp_file :\n",
    "    temp_file.write(\"Add some random comments\")"
   ]
  },
  {
   "cell_type": "code",
   "execution_count": 13,
   "metadata": {
    "tags": []
   },
   "outputs": [
    {
     "output_type": "stream",
     "name": "stdout",
     "text": "Add some random comments\n"
    }
   ],
   "source": [
    "with open(\"basic.txt\", \"r\") as temp_file2 :\n",
    "    contents = temp_file2.read()\n",
    "    print(contents)"
   ]
  },
  {
   "cell_type": "code",
   "execution_count": 17,
   "metadata": {
    "tags": []
   },
   "outputs": [
    {
     "output_type": "stream",
     "name": "stdout",
     "text": "A 지점 통과\nB 지점 통과\n"
    },
    {
     "output_type": "execute_result",
     "data": {
      "text/plain": "&lt;generator object test at 0x1123f4820&gt;"
     },
     "metadata": {},
     "execution_count": 17
    }
   ],
   "source": [
    "# generator, iterator, yield\n",
    "def test() :\n",
    "    print(\"함수가 호출되었습니다.\")\n",
    "    yield \"test\"\n",
    "\n",
    "print(\"A 지점 통과\")\n",
    "test()\n",
    "\n",
    "print(\"B 지점 통과\")\n",
    "test()"
   ]
  },
  {
   "cell_type": "code",
   "execution_count": 21,
   "metadata": {
    "tags": []
   },
   "outputs": [
    {
     "output_type": "stream",
     "name": "stdout",
     "text": "=== 출력 시작 ===\nA 지점 통과\n1\n\nB 지점 통과\n2\n\nC 지점 통과\n"
    },
    {
     "output_type": "error",
     "ename": "StopIteration",
     "evalue": "",
     "traceback": [
      "\u001b[0;31m---------------------------------------------------------------------------\u001b[0m",
      "\u001b[0;31mStopIteration\u001b[0m                             Traceback (most recent call last)",
      "\u001b[0;32m&lt;ipython-input-21-60be6ded806c&gt;\u001b[0m in \u001b[0;36m&lt;module&gt;\u001b[0;34m\u001b[0m\n\u001b[1;32m     19\u001b[0m \u001b[0mprint\u001b[0m\u001b[0;34m(\u001b[0m\u001b[0;34m)\u001b[0m\u001b[0;34m\u001b[0m\u001b[0;34m\u001b[0m\u001b[0m\n\u001b[1;32m     20\u001b[0m \u001b[0;34m\u001b[0m\u001b[0m\n\u001b[0;32m---&gt; 21\u001b[0;31m \u001b[0mc\u001b[0m \u001b[0;34m=\u001b[0m \u001b[0mnext\u001b[0m\u001b[0;34m(\u001b[0m\u001b[0moutput\u001b[0m\u001b[0;34m)\u001b[0m\u001b[0;34m\u001b[0m\u001b[0;34m\u001b[0m\u001b[0m\n\u001b[0m\u001b[1;32m     22\u001b[0m \u001b[0mprint\u001b[0m\u001b[0;34m(\u001b[0m\u001b[0mc\u001b[0m\u001b[0;34m)\u001b[0m\u001b[0;34m\u001b[0m\u001b[0;34m\u001b[0m\u001b[0m\n",
      "\u001b[0;31mStopIteration\u001b[0m: "
     ]
    }
   ],
   "source": [
    "# 제너레이터 객체를 next()를 활용해서 출력하기\n",
    "def test() :\n",
    "    print(\"A 지점 통과\")\n",
    "    yield 1\n",
    "    print(\"B 지점 통과\")\n",
    "    yield 2\n",
    "    print(\"C 지점 통과\")\n",
    "\n",
    "output = test()\n",
    "\n",
    "print(\"=== 출력 시작 ===\")\n",
    "\n",
    "a = next(output)\n",
    "print(a)\n",
    "print()\n",
    "\n",
    "b = next(output)\n",
    "print(b)\n",
    "print()\n",
    "\n",
    "c = next(output)\n",
    "print(c)"
   ]
  },
  {
   "cell_type": "code",
   "execution_count": 22,
   "metadata": {
    "tags": []
   },
   "outputs": [
    {
     "output_type": "stream",
     "name": "stdout",
     "text": "원의 반지름 :  5\n원의 둘레 :  31.400000000000002\n원의 넓이 :  78.5\n예외가 없습니다.\n프로그램이 끝났습니다.\n"
    }
   ],
   "source": [
    "# 예외처리 구문 연습\n",
    "try :\n",
    "    number_input_a = int(input(\"정수 입력>> \"))\n",
    "    print(\"원의 반지름 : \", number_input_a)\n",
    "    print(\"원의 둘레 : \", 2 * 3.14 * number_input_a)\n",
    "    print(\"원의 넓이 : \", 3.14 * number_input_a * number_input_a)\n",
    "except :\n",
    "    print(\"정수가 아닙니다.\")\n",
    "else : \n",
    "    print(\"예외가 없습니다.\")\n",
    "finally :\n",
    "    print(\"프로그램이 끝났습니다.\")  # 무조건 실행할때 사용하는 코드"
   ]
  },
  {
   "source": [
    "### 예외고급 Exception object\n",
    "- 파이썬에서 예외에 대한 정보는 예외 객체에 저장된다.\n",
    "- 'Exception' 이라는 클래스에 저장된다.\n",
    "- IndexError : 리스트/문자열 의 수를 넘는 요소/글자 를 선택할 때 발생한다.\n",
    "- ValueError : 자료형을 변환할 때 '변환할 수 없는 것'을 변환하려고 할 경우."
   ],
   "cell_type": "markdown",
   "metadata": {}
  },
  {
   "cell_type": "code",
   "execution_count": 1,
   "metadata": {
    "tags": []
   },
   "outputs": [
    {
     "output_type": "stream",
     "name": "stdout",
     "text": "type(exc_obj) :  &lt;class &#39;ValueError&#39;&gt;\nexception :  invalid literal for int() with base 10: &#39;y&#39;\n"
    }
   ],
   "source": [
    "try :\n",
    "    number_input_a = int(input(\"정수 입력>> \"))\n",
    "    print(\"원의 반지름 : \", number_input_a)\n",
    "    print(\"원의 둘레 : \", 2 * 3.14 * number_input_a)\n",
    "    print(\"원의 넓이 : \", 3.14 * number_input_a * number_input_a)\n",
    "except Exception as exc_obj :\n",
    "    print(\"type(exc_obj) : \", type(exc_obj))\n",
    "    print(\"exception : \", exc_obj)\n",
    "\n",
    "# ValueError 라는 자료형에 저장 및, 오류 결과가 출력된다."
   ]
  },
  {
   "cell_type": "code",
   "execution_count": 2,
   "metadata": {
    "tags": []
   },
   "outputs": [
    {
     "output_type": "stream",
     "name": "stdout",
     "text": "정수를 입력해 주세요.\nexception:  invalid literal for int() with base 10: &#39;yes&#39;\n"
    }
   ],
   "source": [
    "#예외 구분도 가능하다\n",
    "list_num = [52, 273, 32, 72, 100]\n",
    "\n",
    "try :\n",
    "    num_input = int(input(\"정수 입력 >> \"))\n",
    "    print(\"{} 번 째 요소: {}\".format(num_input, list_num[num_input]))\n",
    "except ValueError as exception :\n",
    "    print(\"정수를 입력해 주세요.\")\n",
    "    print(\"exception: \", exception)\n",
    "except IndexError as exception :\n",
    "    print(\"인덱스를 벗어났습니다.\")\n",
    "    print(\"exception: \", exception)"
   ]
  }
 ]
}