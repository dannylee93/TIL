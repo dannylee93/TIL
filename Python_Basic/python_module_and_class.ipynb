{
 "metadata": {
  "language_info": {
   "codemirror_mode": {
    "name": "ipython",
    "version": 3
   },
   "file_extension": ".py",
   "mimetype": "text/x-python",
   "name": "python",
   "nbconvert_exporter": "python",
   "pygments_lexer": "ipython3",
   "version": "3.8.2-final"
  },
  "orig_nbformat": 2,
  "kernelspec": {
   "name": "Python 3.8.2 64-bit",
   "display_name": "Python 3.8.2 64-bit",
   "metadata": {
    "interpreter": {
     "hash": "5edc29c2ed010d6458d71a83433b383a96a8cbd3efe8531bc90c4b8a5b8bcec9"
    }
   }
  }
 },
 "nbformat": 4,
 "nbformat_minor": 2,
 "cells": [
  {
   "source": [
    "\n",
    "<br></br>\n",
    "# 파이썬에서 모듈과 클래스"
   ],
   "cell_type": "markdown",
   "metadata": {}
  },
  {
   "source": [
    "### 모듈 module\n",
    "- 파이썬은 모듈 module 이라는 기능을 활용해 코드를 분리하고 공유한다.(여러 변수와 함수를 가지고 있는 집합체)\n",
    "- 표준모듈과 외부모듈로 나뉜다.\n",
    "- 'import 모듈이름' 으로 구문을 사용한다.\n",
    "- from 모듈이름 import 가져오고 싶은 변수/함수 as 별칭\n",
    "- scikit-learn, tensorflow, beautifulsoup 등의 외부 모듈은 'pip install 모듈이름' 으로 설치하기\n",
    "- 라이브러리란? 개발자가 모듈의 기능을 호출하는 형태와 같이 정상적인 제어를 하는 모듈.\n",
    "- 프레임워크란? 모듈이 개발자가 작서안 코드를 실행하는 형태의 모듈."
   ],
   "cell_type": "markdown",
   "metadata": {}
  },
  {
   "cell_type": "code",
   "execution_count": null,
   "metadata": {},
   "outputs": [],
   "source": [
    "# make_module 폴더 및 make_module_package 폴더 참고"
   ]
  },
  {
   "source": [
    "### 클래스 Class\n",
    "- 객체 지향 프로그래밍이란 객체를 우선으로 생각해서 프로그래밍 한다는 의미\n",
    "- 프로그램에서 필요한 요소만을 사용해서 객체를 표현하는 것을 추상화(abstraction)라고 한다.\n",
    "- 여러가지 속성을 가질 수 있는 것을 객체라고 표현한다.\n",
    "- 프로그래밍 언어에서는 '학생들' 또한 여러 학생이라는 일종의 속성을 가진 것.\n",
    "- 객체정의는 상단에 몰아서 정리하고 객체를 사용하는 기능은 따로 빼서 처리한다.\n",
    "- 객체와 관련된 코드를 분리해서 하는 것이 객체 지향."
   ],
   "cell_type": "markdown",
   "metadata": {}
  },
  {
   "cell_type": "code",
   "execution_count": 1,
   "metadata": {
    "tags": []
   },
   "outputs": [
    {
     "output_type": "stream",
     "name": "stdout",
     "text": "이름\t총점\t평균\n윤인성\t368\t92.0\n연하진\t362\t90.5\n구지연\t363\t90.75\n나선주\t339\t84.75\n윤아린\t364\t91.0\n윤명월\t375\t93.75\n"
    }
   ],
   "source": [
    "# 가장 일반적인 방법 : 리스트로 객체 생성\n",
    "students = [\n",
    "    {\"name\" : \"윤인성\", \"korean\" : 87, \"math\" : 98, \"english\" : 88, \"science\" : 95},\n",
    "    {\"name\" : \"연하진\", \"korean\" : 92, \"math\" : 87, \"english\" : 86, \"science\" : 97},\n",
    "    {\"name\" : \"구지연\", \"korean\" : 88, \"math\" : 97, \"english\" : 85, \"science\" : 93},\n",
    "    {\"name\" : \"나선주\", \"korean\" : 86, \"math\" : 76, \"english\" : 86, \"science\" : 91},\n",
    "    {\"name\" : \"윤아린\", \"korean\" : 94, \"math\" : 88, \"english\" : 88, \"science\" : 94},\n",
    "    {\"name\" : \"윤명월\", \"korean\" : 96, \"math\" : 98, \"english\" : 89, \"science\" : 92},\n",
    "]\n",
    "\n",
    "print(\"이름\", \"총점\", \"평균\", sep='\\t')\n",
    "\n",
    "for student in students :\n",
    "    score_sum = student[\"korean\"] + student[\"math\"] + student[\"english\"] + student[\"science\"]\n",
    "    score_avg = score_sum / 4\n",
    "    print(student[\"name\"], score_sum, score_avg, sep='\\t')"
   ]
  },
  {
   "cell_type": "code",
   "execution_count": 2,
   "metadata": {
    "tags": []
   },
   "outputs": [
    {
     "output_type": "stream",
     "name": "stdout",
     "text": "이름\t총점\t평균\n윤인성\t359\t89.75\n연하진\t350\t87.5\n구지연\t347\t86.75\n나선주\t344\t86.0\n윤아린\t362\t90.5\n윤명월\t322\t80.5\n"
    }
   ],
   "source": [
    "# 객체를 만드는 함수 \n",
    "def create_student(name, korean, math, english, science) :\n",
    "    return ({\n",
    "        \"name\" : name,\n",
    "        \"korean\" : korean,\n",
    "        \"math\" : math,\n",
    "        \"english\" : english,\n",
    "        \"science\" : science\n",
    "    })\n",
    "\n",
    "students = [\n",
    "    create_student(\"윤인성\", 87, 88, 89, 95),\n",
    "    create_student(\"연하진\", 92, 76, 91, 91),\n",
    "    create_student(\"구지연\", 76, 86, 92, 93),\n",
    "    create_student(\"나선주\", 98, 88, 91, 67),\n",
    "    create_student(\"윤아린\", 95, 93, 97, 77),\n",
    "    create_student(\"윤명월\", 64, 81, 89, 88),\n",
    "]\n",
    "\n",
    "print(\"이름\", \"총점\", \"평균\", sep='\\t')\n",
    "\n",
    "for student in students :\n",
    "    score_sum = student[\"korean\"] + student[\"math\"] + student[\"english\"] + student[\"science\"]\n",
    "    score_avg = score_sum / 4\n",
    "    print(student[\"name\"], score_sum, score_avg, sep='\\t')"
   ]
  },
  {
   "source": [
    "# 생성자 Constructor\n",
    "- 클래스 이름과 같은 함수를 생성자 라고 부르며, 클래스 내부에 __init__ 이라는 함수를 만들면 객체 생성시 처리할 내용을 작성할 수 있다.\n",
    "- 클래스 내부의 함수는 첫 번째 매개변수로 반드시 self 를 입력해야한다.(이 때, self는 자기 자신을 나타내는 딕셔너리)\n",
    "- self 가 가진 속성과 기능에 접근할 때는 self.식별자 형태로 접근한다."
   ],
   "cell_type": "markdown",
   "metadata": {}
  },
  {
   "cell_type": "code",
   "execution_count": 9,
   "metadata": {},
   "outputs": [
    {
     "output_type": "execute_result",
     "data": {
      "text/plain": "&#39;윤인성&#39;"
     },
     "metadata": {},
     "execution_count": 9
    }
   ],
   "source": [
    "class Student :\n",
    "    def __init__(self, name, korean, math, english, science) :\n",
    "        self.name = name\n",
    "        self.korean = korean\n",
    "        self.math = math\n",
    "        self.english = english\n",
    "        self.science = science\n",
    "\n",
    "students = [\n",
    "    Student(\"윤인성\", 87, 88, 89, 95),\n",
    "    Student(\"연하진\", 92, 76, 91, 91),\n",
    "    Student(\"구지연\", 76, 86, 92, 93),\n",
    "    Student(\"나선주\", 98, 88, 91, 67),\n",
    "    Student(\"윤아린\", 95, 93, 97, 77),\n",
    "    Student(\"윤명월\", 64, 81, 89, 88),\n",
    "]\n",
    "\n",
    "# Student 인스턴스에 접근하기\n",
    "students[0]\n",
    "students[0].name"
   ]
  },
  {
   "cell_type": "code",
   "execution_count": null,
   "metadata": {},
   "outputs": [],
   "source": []
  }
 ]
}