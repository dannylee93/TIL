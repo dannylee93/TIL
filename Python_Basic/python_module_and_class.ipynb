{
 "metadata": {
  "language_info": {
   "codemirror_mode": {
    "name": "ipython",
    "version": 3
   },
   "file_extension": ".py",
   "mimetype": "text/x-python",
   "name": "python",
   "nbconvert_exporter": "python",
   "pygments_lexer": "ipython3",
   "version": "3.8.2-final"
  },
  "orig_nbformat": 2,
  "kernelspec": {
   "name": "Python 3.8.2 64-bit",
   "display_name": "Python 3.8.2 64-bit",
   "metadata": {
    "interpreter": {
     "hash": "5edc29c2ed010d6458d71a83433b383a96a8cbd3efe8531bc90c4b8a5b8bcec9"
    }
   }
  }
 },
 "nbformat": 4,
 "nbformat_minor": 2,
 "cells": [
  {
   "source": [
    "\n",
    "<br></br>\n",
    "# 파이썬에서 모듈과 클래스"
   ],
   "cell_type": "markdown",
   "metadata": {}
  },
  {
   "source": [
    "### 모듈 module\n",
    "- 파이썬은 모듈 module 이라는 기능을 활용해 코드를 분리하고 공유한다.(여러 변수와 함수를 가지고 있는 집합체)\n",
    "- 표준모듈과 외부모듈로 나뉜다.\n",
    "- 'import 모듈이름' 으로 구문을 사용한다.\n",
    "- from 모듈이름 import 가져오고 싶은 변수/함수 as 별칭\n",
    "- scikit-learn, tensorflow, beautifulsoup 등의 외부 모듈은 'pip install 모듈이름' 으로 설치하기\n",
    "- 라이브러리란? 개발자가 모듈의 기능을 호출하는 형태와 같이 정상적인 제어를 하는 모듈.\n",
    "- 프레임워크란? 모듈이 개발자가 작서안 코드를 실행하는 형태의 모듈."
   ],
   "cell_type": "markdown",
   "metadata": {}
  },
  {
   "cell_type": "code",
   "execution_count": null,
   "metadata": {},
   "outputs": [],
   "source": [
    "# make_module 폴더 및 make_module_package 폴더 참고"
   ]
  },
  {
   "cell_type": "code",
   "execution_count": null,
   "metadata": {},
   "outputs": [],
   "source": []
  }
 ]
}