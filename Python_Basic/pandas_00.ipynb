{
 "cells": [
  {
   "cell_type": "code",
   "execution_count": null,
   "metadata": {},
   "outputs": [],
   "source": [
    "파이썬 판다스(Python Pandas)는 파이썬 언어로 데이터를 분석하기 위한 쉽게하기 위한 자료구조 및 기능들을 제공하는 패키지입니다.\n",
    "판다스가 제공하는 여러 기능들을 통해서 데이터 분석 과정 중 가장 까다로운 작업 중 하나인 데이터 전처리를 보다 쉽게할 수 처리할 수 있습니다."
   ]
  },
  {
   "cell_type": "markdown",
   "metadata": {},
   "source": [
    "![title](python_series.jpg)\n",
    "##### 이미지 리사이즈 필요"
   ]
  },
  {
   "cell_type": "code",
   "execution_count": null,
   "metadata": {},
   "outputs": [],
   "source": [
    "# 파이썬 의 시리즈는 중요한 자료구조 중 하나"
   ]
  },
  {
   "cell_type": "code",
   "execution_count": 2,
   "metadata": {},
   "outputs": [
    {
     "name": "stdout",
     "output_type": "stream",
     "text": [
      "0    Tigers\n",
      "1     Bears\n",
      "2     Moose\n",
      "dtype: object\n"
     ]
    }
   ],
   "source": [
    "import pandas as pd\n",
    " \n",
    "animals = ['Tigers', 'Bears', 'Moose']\n",
    "p = pd.Series(animals) # 자동적으로 각 데이터에 인덱스를 부여\n",
    "print(p)"
   ]
  },
  {
   "cell_type": "code",
   "execution_count": 3,
   "metadata": {},
   "outputs": [
    {
     "name": "stdout",
     "output_type": "stream",
     "text": [
      "0    1\n",
      "1    2\n",
      "2    3\n",
      "dtype: int64\n"
     ]
    }
   ],
   "source": [
    "numbers = [1,2,3]\n",
    "nums = pd.Series(numbers);\n",
    "print(nums)"
   ]
  },
  {
   "cell_type": "code",
   "execution_count": 7,
   "metadata": {},
   "outputs": [
    {
     "name": "stdout",
     "output_type": "stream",
     "text": [
      "0    Tiger\n",
      "1     Bear\n",
      "2     None\n",
      "dtype: object\n"
     ]
    }
   ],
   "source": [
    "animals = ['Tiger', 'Bear', None] # None값을 줘도 그 값이 인덱스에 매핑되서 표현\n",
    "p = pd.Series(animals)\n",
    "print(p)"
   ]
  },
  {
   "cell_type": "code",
   "execution_count": 4,
   "metadata": {},
   "outputs": [
    {
     "name": "stdout",
     "output_type": "stream",
     "text": [
      "False\n",
      "False\n",
      "True\n"
     ]
    }
   ],
   "source": [
    "import numpy as np\n",
    "print(np.nan == None) # numpy에는 값이 없는 것을 의미하는 nan값이 있다. 이것은 None과는 다르다.\n",
    "# False\n",
    "print(np.nan == np.nan) # nan끼리는 비교할 수 없다.\n",
    "# False\n",
    "print(np.isnan(np.nan)) # nan값인지를 확인하려면 isnan 메서드를 사용해야한다.\n",
    "# True"
   ]
  },
  {
   "cell_type": "code",
   "execution_count": null,
   "metadata": {},
   "outputs": [],
   "source": [
    "samsung = {\n",
    "    'SDS' : 'IT',\n",
    "    'Electronic' : 'IT',\n",
    "    'Display' : 'Hardware'\n",
    "}\n",
    "s = pd.Series(samsung) # 딕셔너리 구조도 시리즈 자료구조로 변환할 수 있음. 이때 딕셔너리의 키가 인덱스값이 됨.\n",
    "print(s)\n",
    "print(s.index) # 인덱스값을 엑세스\n",
    "# Index(['SDS', 'Electronic', 'Display'], dtype='object')"
   ]
  },
  {
   "cell_type": "code",
   "execution_count": 6,
   "metadata": {},
   "outputs": [
    {
     "name": "stdout",
     "output_type": "stream",
     "text": [
      "India      Tiger\n",
      "America     Bear\n",
      "Canada     Moose\n",
      "dtype: object\n",
      "Software                    SDS\n",
      "Software+Hardware    Electronic\n",
      "Hardware                Display\n",
      "dtype: object\n"
     ]
    }
   ],
   "source": [
    "s = pd.Series(['Tiger','Bear','Moose'], index=['India','America','Canada']) # 리스트 자료형을 통한 인덱스 지정\n",
    "print(s)\n",
    "\n",
    "m = pd.Series(['SDS', 'Electronic', 'Display'], index=['Software', 'Software+Hardware', 'Hardware'])\n",
    "print(m)"
   ]
  },
  {
   "cell_type": "code",
   "execution_count": 5,
   "metadata": {},
   "outputs": [
    {
     "name": "stdout",
     "output_type": "stream",
     "text": [
      "Golf      Scotland\n",
      "Sumo         Japan\n",
      "Hockey         NaN\n",
      "dtype: object\n"
     ]
    }
   ],
   "source": [
    "sports = {'Archery' : 'Bhutan',\n",
    "          'Golf':'Scotland',\n",
    "          'Sumo':'Japan',\n",
    "          'Taekwondo':'South Korea'}\n",
    "s = pd.Series(sports, index=['Golf', 'Sumo', 'Hockey']) # 딕셔너리의 key가 하나의 인덱스처럼 동작한다.\n",
    "print(s)"
   ]
  },
  {
   "cell_type": "code",
   "execution_count": null,
   "metadata": {},
   "outputs": [],
   "source": [
    "# 파이썬 시리즈에서 다양한 방법으로 데이터에 접근할 수 있고 관련 정보를 질의할 수 있습니다. 다음은 그에 관련된 예제들입니다."
   ]
  },
  {
   "cell_type": "code",
   "execution_count": 11,
   "metadata": {},
   "outputs": [
    {
     "name": "stdout",
     "output_type": "stream",
     "text": [
      "Archery           Bhutan\n",
      "Golf            Scotland\n",
      "Sumo               Japan\n",
      "Taekwondo    South Korea\n",
      "dtype: object\n"
     ]
    }
   ],
   "source": [
    "import pandas as pd\n",
    "sports = {'Archery': 'Bhutan',\n",
    "          'Golf': 'Scotland',\n",
    "          'Sumo': 'Japan',\n",
    "          'Taekwondo': 'South Korea'}\n",
    "s = pd.Series(sports)\n",
    "print(s)"
   ]
  },
  {
   "cell_type": "code",
   "execution_count": 12,
   "metadata": {},
   "outputs": [
    {
     "name": "stdout",
     "output_type": "stream",
     "text": [
      "Battle       FPS\n",
      "Overwatch    FPS\n",
      "LOL          AOS\n",
      "Lineage      RPG\n",
      "dtype: object\n"
     ]
    }
   ],
   "source": [
    "game = {\n",
    "    'Battle' :'FPS',\n",
    "    'Overwatch' : 'FPS',\n",
    "    'LOL' : 'AOS',\n",
    "    'Lineage' : 'RPG'\n",
    "}\n",
    "m = pd.Series(game)\n",
    "print(m)"
   ]
  },
  {
   "cell_type": "code",
   "execution_count": 13,
   "metadata": {},
   "outputs": [
    {
     "name": "stdout",
     "output_type": "stream",
     "text": [
      "0    100.0\n",
      "1    120.0\n",
      "2    101.0\n",
      "3      3.0\n",
      "dtype: float64\n"
     ]
    }
   ],
   "source": [
    "m.iloc[2] # 인덱스 위치를 통해 엑세스\n",
    "# RPG\n",
    "m.loc['LOL'] # 인덱스명을 통해 엑세스, 딕셔너리의 key를 통한 엑세스 방식과 유사\n",
    "# AOS\n",
    "m[3] # iloc[3]과 같음\n",
    "# FPS\n",
    "m['Overwatch'] # 인덱스명을 통한 엑세스, loc와 같음\n",
    "# FPS\n",
    "m.iloc[0]\n",
    "# FPS\n",
    " \n",
    "sports = {99: 'Bhutan',\n",
    "          100: 'Scotland',\n",
    "          101: 'Japan',\n",
    "          102: 'South Korea'}\n",
    "s = pd.Series(sports)\n",
    "s = pd.Series([100.00, 120.00, 101.00, 3.00]) # 시리즈 데이터 갱신\n",
    "print(s)"
   ]
  },
  {
   "cell_type": "code",
   "execution_count": 14,
   "metadata": {},
   "outputs": [
    {
     "name": "stdout",
     "output_type": "stream",
     "text": [
      "324.0\n",
      "324.0\n",
      "324.0\n",
      "0    479\n",
      "1      6\n",
      "2    119\n",
      "3    470\n",
      "4    237\n",
      "dtype: int32\n",
      "0    9821\n",
      "1     218\n",
      "2    6375\n",
      "3    5933\n",
      "4    4523\n",
      "5    8128\n",
      "6    9202\n",
      "7    6987\n",
      "8    6575\n",
      "9    6983\n",
      "dtype: int32\n",
      "0.41211150000003727\n",
      "0    481\n",
      "1      8\n",
      "2    121\n",
      "3    472\n",
      "4    239\n",
      "dtype: int32\n"
     ]
    }
   ],
   "source": [
    "total = 0\n",
    "for item in s:  # 시리즈 데이터 순회하며 데이터 총합 구하기\n",
    "    total += item\n",
    "print(total)\n",
    "# 324.0\n",
    " \n",
    "from functools import reduce    # reduce를 이용하여 데이터 총합 구하기\n",
    "total = reduce(lambda x,y: x + y, s.values)\n",
    "print(total)\n",
    "# 324.0\n",
    " \n",
    "import numpy as np\n",
    "total = np.sum(s) # numpy를 통해서 매우 간단하게 시리즈 데이터의 총합을 구할 수 있음\n",
    "print(total)\n",
    "# 324.0\n",
    " \n",
    "import pandas as pd\n",
    "import numpy as np\n",
    "s = pd.Series(np.random.randint(0,1000,10000))\n",
    "print(s.head()) # 시리즈 데이터의 앞 네자리만 보기\n",
    "a = pd.Series(np.random.randint(0,10000,40))\n",
    "print(a.head(10)) # 시리즈 데이터의 앞 10자리만 보기\n",
    " \n",
    "len(s) # 시리즈 데이터 크기\n",
    "# 10000\n",
    " \n",
    "import timeit # ipython의 magic function인 %%timeit를 python 인터프리터에서도 사용하는 방법\n",
    "mycode ='''\n",
    "def example():\n",
    "    s = pd.Series(np.random.randint(0,1000,10000))\n",
    "    summary=0\n",
    "    for item in s:\n",
    "        summary+=item\n",
    "'''\n",
    "print(timeit.timeit(stmt=mycode, number=10000000))\n",
    "# 0.56461516\n",
    " \n",
    "s += 2 # numpy의 브로드캐스팅을 통한 연산. 다른 차원의 자료구조도 numpy의 브로드캐스팅\n",
    "       # 을 통하여 쉽게 연산 가능하다. s의 차원은 (1,10000) 이지만 단일 정수를 더해도\n",
    "       # numpy 내부에서 브로드캐스팅이 일어나 2의 차원이 (1, 10000)으로 확장되어 연산이 가능해진다.\n",
    "       # 이에 관한 포스팅은 후에 게시할 예정\n",
    "print(s.head())"
   ]
  },
  {
   "cell_type": "code",
   "execution_count": 15,
   "metadata": {},
   "outputs": [
    {
     "name": "stdout",
     "output_type": "stream",
     "text": [
      "0    483\n",
      "1     10\n",
      "2    123\n",
      "3    474\n",
      "4    241\n",
      "dtype: int32\n"
     ]
    },
    {
     "name": "stderr",
     "output_type": "stream",
     "text": [
      "C:\\Users\\student\\Anaconda3\\lib\\site-packages\\ipykernel_launcher.py:2: FutureWarning: set_value is deprecated and will be removed in a future release. Please use .at[] or .iat[] accessors instead\n",
      "  \n"
     ]
    }
   ],
   "source": [
    "for label, value in s.iteritems(): # 위의 s+=2 연산과 같다. 위 연산에 비해 코드량이 훨씬 더 많고 복잡하다.\n",
    "    s.set_value(label, value+2)\n",
    "s.head()\n",
    "print(s.head())"
   ]
  },
  {
   "cell_type": "code",
   "execution_count": 16,
   "metadata": {},
   "outputs": [
    {
     "name": "stdout",
     "output_type": "stream",
     "text": [
      "0             1\n",
      "1             2\n",
      "2             3\n",
      "Animal    Bears\n",
      "dtype: object\n"
     ]
    }
   ],
   "source": [
    "s = pd.Series([1, 2, 3]) # 시리즈 자료구조에 데이터를 추가할 수 있다.\n",
    "s.loc['Animal'] = 'Bears'\n",
    "print(s)"
   ]
  },
  {
   "cell_type": "code",
   "execution_count": 17,
   "metadata": {},
   "outputs": [
    {
     "name": "stdout",
     "output_type": "stream",
     "text": [
      "Archery           Bhutan\n",
      "Golf            Scotland\n",
      "Sumo               Japan\n",
      "Taekwondo    South Korea\n",
      "dtype: object\n"
     ]
    }
   ],
   "source": [
    "original_sports = pd.Series({'Archery': 'Bhutan',\n",
    "                             'Golf': 'Scotland',\n",
    "                             'Sumo': 'Japan',\n",
    "                             'Taekwondo': 'South Korea'})\n",
    "cricket_loving_countries = pd.Series(['Australia',      # 시리즈 자료구조는 딕셔너리와 다르게 index값의 중복이 허용된다.\n",
    "                                      'Barbados',       # 왜냐하면 인덱스의 숫서로 값을 구분하기 때문이다.\n",
    "                                      'Pakistan',\n",
    "                                      'England'],\n",
    "                                   index=['Cricket',\n",
    "                                          'Cricket',\n",
    "                                          'Cricket',\n",
    "                                          'Cricket'])\n",
    "all_countries = original_sports.append(cricket_loving_countries)\n",
    "print(original_sports)"
   ]
  },
  {
   "cell_type": "code",
   "execution_count": 19,
   "metadata": {},
   "outputs": [
    {
     "name": "stdout",
     "output_type": "stream",
     "text": [
      "Cricket    Australia\n",
      "Cricket     Barbados\n",
      "Cricket     Pakistan\n",
      "Cricket      England\n",
      "dtype: object\n"
     ]
    }
   ],
   "source": [
    "print(cricket_loving_countries)"
   ]
  },
  {
   "cell_type": "code",
   "execution_count": 20,
   "metadata": {},
   "outputs": [
    {
     "name": "stdout",
     "output_type": "stream",
     "text": [
      "Archery           Bhutan\n",
      "Golf            Scotland\n",
      "Sumo               Japan\n",
      "Taekwondo    South Korea\n",
      "Cricket        Australia\n",
      "Cricket         Barbados\n",
      "Cricket         Pakistan\n",
      "Cricket          England\n",
      "dtype: object\n"
     ]
    }
   ],
   "source": [
    "print(all_countries)"
   ]
  },
  {
   "cell_type": "code",
   "execution_count": 21,
   "metadata": {},
   "outputs": [
    {
     "name": "stdout",
     "output_type": "stream",
     "text": [
      "Cricket    Australia\n",
      "Cricket     Barbados\n",
      "Cricket     Pakistan\n",
      "Cricket      England\n",
      "dtype: object\n"
     ]
    }
   ],
   "source": [
    "print(all_countries.loc['Cricket'])"
   ]
  },
  {
   "cell_type": "code",
   "execution_count": null,
   "metadata": {},
   "outputs": [],
   "source": [
    "# 파이썬 데이터프레임은 판다스에서 제공하는 자료구조로 데이터 분석을 하게 될 때 가장 많이 보게되는 자료구조입니다.\n",
    "# 판다스 자료구조의 핵심 중의 핵심이라고 할 수 있죠. 데이터 프레임은 다음과 같은 구조로 되어 있습니다."
   ]
  },
  {
   "cell_type": "markdown",
   "metadata": {},
   "source": [
    "![title](python_DataFrame.jpg)\n",
    "##### 이미지 리사이즈 필요"
   ]
  },
  {
   "cell_type": "code",
   "execution_count": 23,
   "metadata": {},
   "outputs": [
    {
     "name": "stdout",
     "output_type": "stream",
     "text": [
      "          Name Item Purchased   Cost\n",
      "Store 1  Chris       Dog Food  22.50\n",
      "Store 1  Kevyn   Kitty Litter   2.50\n",
      "Store 2  Vinod      Bird Seed   5.00\n",
      "Store 3  power         Daniel   9.42\n"
     ]
    }
   ],
   "source": [
    "import pandas as pd\n",
    "purchase_1 = pd.Series({'Name': 'Chris',                # 시리즈 데이터를 묶어서 데이터프레임 데이터 만들기\n",
    "                        'Item Purchased': 'Dog Food',\n",
    "                        'Cost': 22.50})\n",
    "purchase_2 = pd.Series({'Name': 'Kevyn',\n",
    "                        'Item Purchased': 'Kitty Litter',\n",
    "                        'Cost': 2.50})\n",
    "purchase_3 = pd.Series({'Name': 'Vinod',\n",
    "                        'Item Purchased': 'Bird Seed',\n",
    "                        'Cost': 5.00})\n",
    "purchase_4 = pd.Series({ 'Name' : 'power',\n",
    "                        'Item Purchased' : 'Daniel',\n",
    "                        'Cost' : 9.42})\n",
    "df = pd.DataFrame([purchase_1, purchase_2, purchase_3, purchase_4], index=['Store 1', 'Store 1', 'Store 2', 'Store 3'])\n",
    "h = df.head()\n",
    "print(h)"
   ]
  },
  {
   "cell_type": "code",
   "execution_count": 24,
   "metadata": {},
   "outputs": [
    {
     "name": "stdout",
     "output_type": "stream",
     "text": [
      "Name                  Vinod\n",
      "Item Purchased    Bird Seed\n",
      "Cost                      5\n",
      "Name: Store 2, dtype: object\n"
     ]
    }
   ],
   "source": [
    "print(df.loc['Store 2'])"
   ]
  },
  {
   "cell_type": "code",
   "execution_count": 25,
   "metadata": {},
   "outputs": [
    {
     "name": "stdout",
     "output_type": "stream",
     "text": [
      "Store 1    22.5\n",
      "Store 1     2.5\n",
      "Name: Cost, dtype: float64\n"
     ]
    }
   ],
   "source": [
    "type(df.loc['Store 2'])\n",
    "# pandas.core.series.Series\n",
    "print(df.loc['Store 1', 'Cost']) # Store 1인 행에 컬럼값이 'Cost'인 요소 구하기"
   ]
  },
  {
   "cell_type": "code",
   "execution_count": 26,
   "metadata": {},
   "outputs": [
    {
     "name": "stdout",
     "output_type": "stream",
     "text": [
      "                 Store 1       Store 1    Store 2 Store 3\n",
      "Name               Chris         Kevyn      Vinod   power\n",
      "Item Purchased  Dog Food  Kitty Litter  Bird Seed  Daniel\n",
      "Cost                22.5           2.5          5    9.42\n"
     ]
    }
   ],
   "source": [
    "T = df.T # Transpose\n",
    "print(T)"
   ]
  },
  {
   "cell_type": "code",
   "execution_count": 27,
   "metadata": {},
   "outputs": [
    {
     "name": "stdout",
     "output_type": "stream",
     "text": [
      "          Name   Cost\n",
      "Store 1  Chris  22.50\n",
      "Store 1  Kevyn   2.50\n",
      "Store 2  Vinod   5.00\n",
      "Store 3  power   9.42\n"
     ]
    }
   ],
   "source": [
    "print(df.loc[:,['Name', 'Cost']]) # Name과 Cost의 컬럼에 해당되는 모든 행을 출력"
   ]
  },
  {
   "cell_type": "code",
   "execution_count": 28,
   "metadata": {},
   "outputs": [
    {
     "name": "stdout",
     "output_type": "stream",
     "text": [
      "        Item Purchased  Cost\n",
      "Store 1       Dog Food  22.5\n",
      "Store 1   Kitty Litter   2.5\n",
      "Store 2      Bird Seed   5.0\n"
     ]
    }
   ],
   "source": [
    "print(df.loc[['Store 1', 'Store 2'], ['Item Purchased', 'Cost']]) # Store1, Store2 행과 Item Purchased, Cost 열에 해당되는 모든 요소 출력"
   ]
  },
  {
   "cell_type": "code",
   "execution_count": 29,
   "metadata": {},
   "outputs": [
    {
     "name": "stdout",
     "output_type": "stream",
     "text": [
      "          Name Item Purchased  Cost\n",
      "Store 2  Vinod      Bird Seed  5.00\n",
      "Store 3  power         Daniel  9.42\n",
      "          Name Item Purchased   Cost\n",
      "Store 1  Chris       Dog Food  22.50\n",
      "Store 1  Kevyn   Kitty Litter   2.50\n",
      "Store 2  Vinod      Bird Seed   5.00\n",
      "Store 3  power         Daniel   9.42\n"
     ]
    }
   ],
   "source": [
    "drop_df= df.drop('Store 1') # 데이터프레임 중 Store1인 행을 제거한 데이터프레임을 반환 원본 데이터프레임은 변화없음\n",
    "print(drop_df)\n",
    "\n",
    "print(df)"
   ]
  },
  {
   "cell_type": "code",
   "execution_count": 30,
   "metadata": {},
   "outputs": [
    {
     "name": "stdout",
     "output_type": "stream",
     "text": [
      "          Name Item Purchased  Cost\n",
      "Store 2  Vinod      Bird Seed  5.00\n",
      "Store 3  power         Daniel  9.42\n"
     ]
    }
   ],
   "source": [
    "copy_df = df.copy()\n",
    "copy_df = copy_df.drop('Store 1') # 위의 연산은 df를 복사하고 난 후 그 복사된 데이터를 드롭한 데이터 프레임을 넘겨주는 것\n",
    "print(copy_df)"
   ]
  },
  {
   "cell_type": "code",
   "execution_count": 31,
   "metadata": {},
   "outputs": [
    {
     "name": "stdout",
     "output_type": "stream",
     "text": [
      "        Item Purchased  Cost\n",
      "Store 2      Bird Seed  5.00\n",
      "Store 3         Daniel  9.42\n"
     ]
    }
   ],
   "source": [
    "del copy_df['Name'] # 컬럼을 삭제하는 방법. 원본 데이터 변화 있음 주의해야 함\n",
    "print(copy_df)"
   ]
  },
  {
   "cell_type": "code",
   "execution_count": 32,
   "metadata": {},
   "outputs": [
    {
     "name": "stdout",
     "output_type": "stream",
     "text": [
      "          Name Item Purchased   Cost Location   Sale\n",
      "Store 1  Chris       Dog Food  22.50     None   True\n",
      "Store 1  Kevyn   Kitty Litter   2.50     None  False\n",
      "Store 2  Vinod      Bird Seed   5.00     None   True\n",
      "Store 3  power         Daniel   9.42     None   True\n"
     ]
    }
   ],
   "source": [
    "df['Location'] = None  # 데이터 추가방법, Series를 이용하지 않고도 리스트로 추가 가능하다\n",
    "df['Sale'] = [True, False, True, True]\n",
    "print(df)"
   ]
  },
  {
   "cell_type": "code",
   "execution_count": 33,
   "metadata": {},
   "outputs": [
    {
     "name": "stdout",
     "output_type": "stream",
     "text": [
      "Store 1    22.50\n",
      "Store 1     2.50\n",
      "Store 2     5.00\n",
      "Store 3     9.42\n",
      "Name: Cost, dtype: float64\n"
     ]
    }
   ],
   "source": [
    "costs = df['Cost']  # 해당 컬럼의 전체 행 추출\n",
    "print(costs)"
   ]
  },
  {
   "cell_type": "code",
   "execution_count": 34,
   "metadata": {},
   "outputs": [
    {
     "name": "stdout",
     "output_type": "stream",
     "text": [
      "Store 1    24.50\n",
      "Store 1     4.50\n",
      "Store 2     7.00\n",
      "Store 3    11.42\n",
      "Name: Cost, dtype: float64\n"
     ]
    }
   ],
   "source": [
    "costs+=2    # 해당 컬럼의 전체행에 2를 더함. 브로드캐스팅 방식으로 연산\n",
    "print(costs)"
   ]
  },
  {
   "cell_type": "code",
   "execution_count": null,
   "metadata": {},
   "outputs": [],
   "source": [
    "# 파이썬의 데이터프레임 데이터 추출 (olympics.csv 연습 데이터 사용)"
   ]
  },
  {
   "cell_type": "code",
   "execution_count": null,
   "metadata": {},
   "outputs": [],
   "source": [
    "import pandas as pd\n",
    " \n",
    "df = pd.read_csv('olympics.csv') # csv파일 불러오기, 데이터가 이상하게 불려들여짐\n",
    "                                 # 컬럼명이 한 칸 아래에 위치, 로우명이 오른쪽으로 한 칸 밀려있음\n",
    "print(df.head())\n",
    "'''\n",
    "                   0         1     2       ...          13    14              15\n",
    "0                NaN  № Summer  01 !       ...        02 !  03 !  Combined total\n",
    "1  Afghanistan (AFG)        13     0       ...           0     2               2\n",
    "2      Algeria (ALG)        12     5       ...           2     8              15\n",
    "3    Argentina (ARG)        23    18       ...          24    28              70\n",
    "4      Armenia (ARM)         5     1       ...           2     9              12\n",
    "'''\n",
    " \n",
    "df = pd.read_csv('olympics.csv', index_col=0, skiprows=1) # 잘못 로드된 데이터를 제대로 불려들임\n",
    "                                                          # index_col은 인덱스의 위치를 컬럼의 인덱스로 나타냄\n",
    "                                                          # skiprows는 컬럼명을 맞추기 위해 얼마만큼의 행을 건너뛸지를 나타냄\n",
    "print(df.head())\n",
    "'''                     \n",
    "                         № Summer  01 !       ...        03 !.2  Combined total\n",
    "Afghanistan (AFG)              13     0       ...             2               2\n",
    "Algeria (ALG)                  12     5       ...             8              15\n",
    "Argentina (ARG)                23    18       ...            28              70\n",
    "Armenia (ARM)                   5     1       ...             9              12\n",
    "Australasia (ANZ) [ANZ]         2     3       ...             5              12\n",
    "'''\n",
    " \n",
    "for col in df.columns:  # 데이터프레임 데이터 전처리, 컬럼명 바꾸기\n",
    "    if col[:2] == '01':\n",
    "        df.rename(columns={col:'Gold' + col[4:]}, inplace=True) # inplace는 새로운 데이터프레임을 복사해서 줄 것인지\n",
    "    if col[:2] == '02':                                         # 기존의 것을 대체할 것인지를 결정함\n",
    "        df.rename(columns={col:'Silver' + col[4:]}, inplace=True)\n",
    "    if col[:2] == '03':\n",
    "        df.rename(columns={col: 'Bronze' + col[4:]}, inplace=True)\n",
    "    if col[:1] == '№':\n",
    "        df.rename(columns={col: '#' + col[1:]}, inplace=True)\n",
    " \n",
    "print(df.columns)\n",
    "'''\n",
    "Index(['# Summer', 'Gold', 'Silver', 'Bronze', 'Total', '# Winter', 'Gold.1',\n",
    "       'Silver.1', 'Bronze.1', 'Total.1', '# Games', 'Gold.2', 'Silver.2',\n",
    "       'Bronze.2', 'Combined total'],\n",
    "      dtype='object')\n",
    " \n",
    "'''\n",
    " \n",
    "print(df['Gold'] > 0)  # Gold 컬럼에서 0 보다 큰 값인지 여부 확인\n",
    "'''\n",
    "Afghanistan (AFG)                               False\n",
    "Algeria (ALG)                                    True\n",
    "Argentina (ARG)                                  True\n",
    "Armenia (ARM)                                    True\n",
    "Australasia (ANZ) [ANZ]                          True\n",
    "Australia (AUS) [AUS] [Z]                        True\n",
    "Austria (AUT)                                    True\n",
    "Azerbaijan (AZE)                                 True\n",
    "Bahamas (BAH)                                    True\n",
    "Bahrain (BRN)                                   False\n",
    "Barbados (BAR) [BAR]                            False\n",
    "Belarus (BLR)                                    True\n",
    "Belgium (BEL)                                    True\n",
    "Bermuda (BER)                                   False\n",
    "Bohemia (BOH) [BOH] [Z]                         False\n",
    "Botswana (BOT)                                  False\n",
    "Brazil (BRA)                                     True\n",
    "British West Indies (BWI) [BWI]                 False\n",
    "Bulgaria (BUL) [H]                               True\n",
    "Burundi (BDI)                                    True\n",
    "Cameroon (CMR)                                   True\n",
    "Canada (CAN)                                     True\n",
    "Chile (CHI) [I]                                  True\n",
    "China (CHN) [CHN]                                True\n",
    "Colombia (COL)                                   True\n",
    "Costa Rica (CRC)                                 True\n",
    "Ivory Coast (CIV) [CIV]                         False\n",
    "Croatia (CRO)                                    True\n",
    "Cuba (CUB) [Z]                                   True\n",
    "Cyprus (CYP)                                    False\n",
    "                                                ... \n",
    "Sri Lanka (SRI) [SRI]                           False\n",
    "Sudan (SUD)                                     False\n",
    "Suriname (SUR) [E]                               True\n",
    "Sweden (SWE) [Z]                                 True\n",
    "Switzerland (SUI)                                True\n",
    "Syria (SYR)                                      True\n",
    "Chinese Taipei (TPE) [TPE] [TPE2]                True\n",
    "Tajikistan (TJK)                                False\n",
    "Tanzania (TAN) [TAN]                            False\n",
    "Thailand (THA)                                   True\n",
    "Togo (TOG)                                      False\n",
    "Tonga (TGA)                                     False\n",
    "Trinidad and Tobago (TRI) [TRI]                  True\n",
    "Tunisia (TUN)                                    True\n",
    "Turkey (TUR)                                     True\n",
    "Uganda (UGA)                                     True\n",
    "Ukraine (UKR)                                    True\n",
    "United Arab Emirates (UAE)                       True\n",
    "United States (USA) [P] [Q] [R] [Z]              True\n",
    "Uruguay (URU)                                    True\n",
    "Uzbekistan (UZB)                                 True\n",
    "Venezuela (VEN)                                  True\n",
    "Vietnam (VIE)                                   False\n",
    "Virgin Islands (ISV)                            False\n",
    "Yugoslavia (YUG) [YUG]                           True\n",
    "Independent Olympic Participants (IOP) [IOP]    False\n",
    "Zambia (ZAM) [ZAM]                              False\n",
    "Zimbabwe (ZIM) [ZIM]                             True\n",
    "Mixed team (ZZX) [ZZX]                           True\n",
    "Totals                                           True\n",
    "Name: Gold, Length: 147, dtype: bool\n",
    "'''\n",
    "only_gold = df.where(df['Gold']>5)  # Gold 컬럼에서 5보다 큰 행들의 모음을 데이터프레임 형식으로 반환\n",
    "print(only_gold.head())\n",
    "'''\n",
    "                         # Summer       ...        Combined total\n",
    "Afghanistan (AFG)             NaN       ...                   NaN\n",
    "Algeria (ALG)                 NaN       ...                   NaN\n",
    "Argentina (ARG)              23.0       ...                  70.0\n",
    "Armenia (ARM)                 NaN       ...                   NaN\n",
    "Australasia (ANZ) [ANZ]       NaN       ...                   NaN\n",
    "'''\n",
    "print(only_gold['Gold'].count()) # Gold 컬럼중에서 NaN이 아닌 수를 구하기\n",
    "# 62\n",
    "only_gold = only_gold.dropna() # 데이터 프레임에서 NaN이 포함된 행들 다 drop하기\n",
    "print(only_gold.head())\n",
    "'''\n",
    "                           # Summer       ...        Combined total\n",
    "Argentina (ARG)                23.0       ...                  70.0\n",
    "Australia (AUS) [AUS] [Z]      25.0       ...                 480.0\n",
    "Austria (AUT)                  26.0       ...                 304.0\n",
    "Azerbaijan (AZE)                5.0       ...                  26.0\n",
    "Belarus (BLR)                   5.0       ...                  90.0\n",
    "'''\n",
    " \n",
    "only_gold = df[df['Gold'] > 0] # Gold가 0보다 큰 행들을 모아 데이터프레임으로 리턴\n",
    "                               # 위의 방식보다 훨씬 간단하다\n",
    "print(only_gold.head())\n",
    "'''\n",
    "                           # Summer       ...        Combined total\n",
    "Algeria (ALG)                    12       ...                    15\n",
    "Argentina (ARG)                  23       ...                    70\n",
    "Armenia (ARM)                     5       ...                    12\n",
    "Australasia (ANZ) [ANZ]           2       ...                    12\n",
    "Australia (AUS) [AUS] [Z]        25       ...                   480\n",
    " \n",
    "'''\n",
    "gold_and_gold1 = df[(df['Gold'] > 0) & (df['Gold.1'] > 0)]  # Gold와 Gold.1값이 동시에 0이 넘는 행들을 선택\n",
    "print(gold_and_gold1.head())\n",
    "'''\n",
    "                           # Summer       ...        Combined total\n",
    "Australia (AUS) [AUS] [Z]        25       ...                   480\n",
    "Austria (AUT)                    26       ...                   304\n",
    "Belarus (BLR)                     5       ...                    90\n",
    "Belgium (BEL)                    25       ...                   147\n",
    "Bulgaria (BUL) [H]               19       ...                   220\n",
    "'''\n",
    " \n",
    "df['country'] = df.index # 인덱스로 쓰인 데이터를 'country' 컬럼의 데이터로 만들어 쓰기\n",
    "df = df.set_index('Silver') # Silver라는 새로운 인덱스 만듬\n",
    "print(df.head())\n",
    "'''\n",
    "        # Summer           ...                             country\n",
    "Silver                     ...                                   \n",
    "0             13           ...                   Afghanistan (AFG)\n",
    "2             12           ...                       Algeria (ALG)\n",
    "24            23           ...                     Argentina (ARG)\n",
    "2              5           ...                       Armenia (ARM)\n",
    "4              2           ...             Australasia (ANZ) [ANZ]\n",
    "'''\n",
    "df = df.reset_index() # 인덱스 리셋\n",
    "print(df.head())\n",
    "'''\n",
    "   Silver           ...                             country\n",
    "0       0           ...                   Afghanistan (AFG)\n",
    "1       2           ...                       Algeria (ALG)\n",
    "2      24           ...                     Argentina (ARG)\n",
    "3       2           ...                       Armenia (ARM)\n",
    "4       4           ...             Australasia (ANZ) [ANZ]\n",
    "'''\n",
    "df.index = df['Silver']\n",
    "print(df.head())\n",
    "'''\n",
    "        Silver           ...                             country\n",
    "Silver                   ...                                   \n",
    "0            0           ...                   Afghanistan (AFG)\n",
    "2            2           ...                       Algeria (ALG)\n",
    "24          24           ...                     Argentina (ARG)\n",
    "2            2           ...                       Armenia (ARM)\n",
    "4            4           ...             Australasia (ANZ) [ANZ]\n",
    "'''\n",
    "df = df.sort_index() # 인덱스 정렬\n",
    "print(df.head())\n",
    "'''\n",
    "   Silver           ...                             country\n",
    "0       0           ...                   Afghanistan (AFG)\n",
    "1       2           ...                       Algeria (ALG)\n",
    "2      24           ...                     Argentina (ARG)\n",
    "3       2           ...                       Armenia (ARM)\n",
    "4       4           ...             Australasia (ANZ) [ANZ]\n",
    "'''\n",
    "# !cat olympics.csv"
   ]
  }
 ],
 "metadata": {
  "kernelspec": {
   "display_name": "Python 3",
   "language": "python",
   "name": "python3"
  },
  "language_info": {
   "codemirror_mode": {
    "name": "ipython",
    "version": 3
   },
   "file_extension": ".py",
   "mimetype": "text/x-python",
   "name": "python",
   "nbconvert_exporter": "python",
   "pygments_lexer": "ipython3",
   "version": "3.7.4"
  }
 },
 "nbformat": 4,
 "nbformat_minor": 2
}
