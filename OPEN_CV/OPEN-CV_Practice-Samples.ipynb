{
 "cells": [
  {
   "cell_type": "code",
   "execution_count": 1,
   "metadata": {},
   "outputs": [],
   "source": [
    "# 필요한 모듈 불러오기\n",
    "import cv2\n",
    "import numpy as np\n",
    "import matplotlib.pyplot as plt\n",
    "\n",
    "%matplotlib inline"
   ]
  },
  {
   "cell_type": "code",
   "execution_count": 2,
   "metadata": {},
   "outputs": [],
   "source": [
    "# 이미지 예시(검정바탕 화면)\n",
    "img = np.zeros((768, 1266, 3), dtype=np.uint8)"
   ]
  },
  {
   "cell_type": "code",
   "execution_count": 11,
   "metadata": {},
   "outputs": [],
   "source": [
    "# 이미지 출력하기\n",
    "cv2.imshow('img', img)\n",
    "cv2.waitKey(0)\n",
    "cv2.destroyAllWindows()"
   ]
  },
  {
   "cell_type": "code",
   "execution_count": 10,
   "metadata": {},
   "outputs": [],
   "source": [
    "# 선 그리기\n",
    "line = cv2.line(img, (100,100), (1200,100), (0,0,255), 3, cv2.LINE_AA)\n",
    "\n",
    "# 사각형 그리기\n",
    "rect = cv2.rectangle(img, (500,200), (1000, 400), (255,0,0), 5, cv2.LINE_8)\n",
    "\n",
    "# 원 그리기\n",
    "circle = cv2.circle(img, (300, 300), 50, (0,255,0), cv2.FILLED, cv2.LINE_4)\n",
    "\n",
    "# 호 그리기\n",
    "ellipse = cv2.ellipse(img, (1200, 300), (100,50), 0, 90, 180, (255,255,0), 2)\n",
    "\n",
    "# 지점 선택\n",
    "pts1 = np.array([[[100,500],[300,500],[200,600]], [[400,500],[500,500],[600,700]]])\n",
    "pts2 = np.array([[700,500],[800,500],[700,600]])\n",
    "\n",
    "# 내부가 채워지지 않은 다각형 만들기\n",
    "polylines =  cv2.polylines(img, pts1, True, (0,255,255), 2)\n",
    "\n",
    "# 내부가 채워진 다각형([]를 사용하는 이유: )\n",
    "fillpoly = cv2.fillPoly(img, [pts2], (255,0,255), cv2.LINE_AA)\n",
    "\n",
    "# 글자 그리기\n",
    "putText = cv2.putText(img, \"Open CV\", (900, 600), cv2.FONT_HERSHEY_COMPLEX | cv2.FONT_ITALIC, 2, (255,255,255), 3)"
   ]
  },
  {
   "cell_type": "code",
   "execution_count": 12,
   "metadata": {},
   "outputs": [
    {
     "name": "stdout",
     "output_type": "stream",
     "text": [
      "True\n"
     ]
    }
   ],
   "source": [
    "# 이미지 저장\n",
    "save = cv2.imwrite(\"CV.jpeg\", img, (cv2.IMWRITE_JPEG_QUALITY, 100, cv2.IMWRITE_JPEG_PROGRESSIVE, 1))\n",
    "print(save)"
   ]
  },
  {
   "cell_type": "code",
   "execution_count": null,
   "metadata": {},
   "outputs": [],
   "source": []
  }
 ],
 "metadata": {
  "kernelspec": {
   "display_name": "Python 3",
   "language": "python",
   "name": "python3"
  },
  "language_info": {
   "codemirror_mode": {
    "name": "ipython",
    "version": 3
   },
   "file_extension": ".py",
   "mimetype": "text/x-python",
   "name": "python",
   "nbconvert_exporter": "python",
   "pygments_lexer": "ipython3",
   "version": "3.7.4"
  }
 },
 "nbformat": 4,
 "nbformat_minor": 2
}
